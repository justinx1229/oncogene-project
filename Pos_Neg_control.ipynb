{
 "cells": [
  {
   "cell_type": "code",
   "execution_count": 1,
   "id": "f67a4f52",
   "metadata": {},
   "outputs": [],
   "source": [
    "import numpy as np\n",
    "import pandas as pd\n",
    "import json\n",
    "from itertools import combinations\n",
    "import itertools\n",
    "import random\n",
    "from collections import defaultdict\n",
    "import os\n",
    "import shutil"
   ]
  },
  {
   "cell_type": "code",
   "execution_count": 2,
   "id": "d4bae3e6",
   "metadata": {},
   "outputs": [
    {
     "ename": "FileNotFoundError",
     "evalue": "File allComplexes.json does not exist",
     "output_type": "error",
     "traceback": [
      "\u001b[0;31m---------------------------------------------------------------------------\u001b[0m",
      "\u001b[0;31mFileNotFoundError\u001b[0m                         Traceback (most recent call last)",
      "Cell \u001b[0;32mIn[2], line 2\u001b[0m\n\u001b[1;32m      1\u001b[0m \u001b[38;5;66;03m# Read in the dataset of all complexes\u001b[39;00m\n\u001b[0;32m----> 2\u001b[0m all_complexes \u001b[38;5;241m=\u001b[39m pd\u001b[38;5;241m.\u001b[39mread_json(\u001b[38;5;124m\"\u001b[39m\u001b[38;5;124mallComplexes.json\u001b[39m\u001b[38;5;124m\"\u001b[39m)\n\u001b[1;32m      3\u001b[0m all_complexes\u001b[38;5;241m.\u001b[39mhead(\u001b[38;5;241m5\u001b[39m)\n",
      "File \u001b[0;32m~/anaconda3/lib/python3.11/site-packages/pandas/io/json/_json.py:780\u001b[0m, in \u001b[0;36mread_json\u001b[0;34m(path_or_buf, orient, typ, dtype, convert_axes, convert_dates, keep_default_dates, precise_float, date_unit, encoding, encoding_errors, lines, chunksize, compression, nrows, storage_options, dtype_backend, engine)\u001b[0m\n\u001b[1;32m    777\u001b[0m \u001b[38;5;28;01mif\u001b[39;00m convert_axes \u001b[38;5;129;01mis\u001b[39;00m \u001b[38;5;28;01mNone\u001b[39;00m \u001b[38;5;129;01mand\u001b[39;00m orient \u001b[38;5;241m!=\u001b[39m \u001b[38;5;124m\"\u001b[39m\u001b[38;5;124mtable\u001b[39m\u001b[38;5;124m\"\u001b[39m:\n\u001b[1;32m    778\u001b[0m     convert_axes \u001b[38;5;241m=\u001b[39m \u001b[38;5;28;01mTrue\u001b[39;00m\n\u001b[0;32m--> 780\u001b[0m json_reader \u001b[38;5;241m=\u001b[39m JsonReader(\n\u001b[1;32m    781\u001b[0m     path_or_buf,\n\u001b[1;32m    782\u001b[0m     orient\u001b[38;5;241m=\u001b[39morient,\n\u001b[1;32m    783\u001b[0m     typ\u001b[38;5;241m=\u001b[39mtyp,\n\u001b[1;32m    784\u001b[0m     dtype\u001b[38;5;241m=\u001b[39mdtype,\n\u001b[1;32m    785\u001b[0m     convert_axes\u001b[38;5;241m=\u001b[39mconvert_axes,\n\u001b[1;32m    786\u001b[0m     convert_dates\u001b[38;5;241m=\u001b[39mconvert_dates,\n\u001b[1;32m    787\u001b[0m     keep_default_dates\u001b[38;5;241m=\u001b[39mkeep_default_dates,\n\u001b[1;32m    788\u001b[0m     precise_float\u001b[38;5;241m=\u001b[39mprecise_float,\n\u001b[1;32m    789\u001b[0m     date_unit\u001b[38;5;241m=\u001b[39mdate_unit,\n\u001b[1;32m    790\u001b[0m     encoding\u001b[38;5;241m=\u001b[39mencoding,\n\u001b[1;32m    791\u001b[0m     lines\u001b[38;5;241m=\u001b[39mlines,\n\u001b[1;32m    792\u001b[0m     chunksize\u001b[38;5;241m=\u001b[39mchunksize,\n\u001b[1;32m    793\u001b[0m     compression\u001b[38;5;241m=\u001b[39mcompression,\n\u001b[1;32m    794\u001b[0m     nrows\u001b[38;5;241m=\u001b[39mnrows,\n\u001b[1;32m    795\u001b[0m     storage_options\u001b[38;5;241m=\u001b[39mstorage_options,\n\u001b[1;32m    796\u001b[0m     encoding_errors\u001b[38;5;241m=\u001b[39mencoding_errors,\n\u001b[1;32m    797\u001b[0m     dtype_backend\u001b[38;5;241m=\u001b[39mdtype_backend,\n\u001b[1;32m    798\u001b[0m     engine\u001b[38;5;241m=\u001b[39mengine,\n\u001b[1;32m    799\u001b[0m )\n\u001b[1;32m    801\u001b[0m \u001b[38;5;28;01mif\u001b[39;00m chunksize:\n\u001b[1;32m    802\u001b[0m     \u001b[38;5;28;01mreturn\u001b[39;00m json_reader\n",
      "File \u001b[0;32m~/anaconda3/lib/python3.11/site-packages/pandas/io/json/_json.py:893\u001b[0m, in \u001b[0;36mJsonReader.__init__\u001b[0;34m(self, filepath_or_buffer, orient, typ, dtype, convert_axes, convert_dates, keep_default_dates, precise_float, date_unit, encoding, lines, chunksize, compression, nrows, storage_options, encoding_errors, dtype_backend, engine)\u001b[0m\n\u001b[1;32m    891\u001b[0m     \u001b[38;5;28mself\u001b[39m\u001b[38;5;241m.\u001b[39mdata \u001b[38;5;241m=\u001b[39m filepath_or_buffer\n\u001b[1;32m    892\u001b[0m \u001b[38;5;28;01melif\u001b[39;00m \u001b[38;5;28mself\u001b[39m\u001b[38;5;241m.\u001b[39mengine \u001b[38;5;241m==\u001b[39m \u001b[38;5;124m\"\u001b[39m\u001b[38;5;124mujson\u001b[39m\u001b[38;5;124m\"\u001b[39m:\n\u001b[0;32m--> 893\u001b[0m     data \u001b[38;5;241m=\u001b[39m \u001b[38;5;28mself\u001b[39m\u001b[38;5;241m.\u001b[39m_get_data_from_filepath(filepath_or_buffer)\n\u001b[1;32m    894\u001b[0m     \u001b[38;5;28mself\u001b[39m\u001b[38;5;241m.\u001b[39mdata \u001b[38;5;241m=\u001b[39m \u001b[38;5;28mself\u001b[39m\u001b[38;5;241m.\u001b[39m_preprocess_data(data)\n",
      "File \u001b[0;32m~/anaconda3/lib/python3.11/site-packages/pandas/io/json/_json.py:949\u001b[0m, in \u001b[0;36mJsonReader._get_data_from_filepath\u001b[0;34m(self, filepath_or_buffer)\u001b[0m\n\u001b[1;32m    941\u001b[0m     filepath_or_buffer \u001b[38;5;241m=\u001b[39m \u001b[38;5;28mself\u001b[39m\u001b[38;5;241m.\u001b[39mhandles\u001b[38;5;241m.\u001b[39mhandle\n\u001b[1;32m    942\u001b[0m \u001b[38;5;28;01melif\u001b[39;00m (\n\u001b[1;32m    943\u001b[0m     \u001b[38;5;28misinstance\u001b[39m(filepath_or_buffer, \u001b[38;5;28mstr\u001b[39m)\n\u001b[1;32m    944\u001b[0m     \u001b[38;5;129;01mand\u001b[39;00m filepath_or_buffer\u001b[38;5;241m.\u001b[39mlower()\u001b[38;5;241m.\u001b[39mendswith(\n\u001b[0;32m   (...)\u001b[0m\n\u001b[1;32m    947\u001b[0m     \u001b[38;5;129;01mand\u001b[39;00m \u001b[38;5;129;01mnot\u001b[39;00m file_exists(filepath_or_buffer)\n\u001b[1;32m    948\u001b[0m ):\n\u001b[0;32m--> 949\u001b[0m     \u001b[38;5;28;01mraise\u001b[39;00m \u001b[38;5;167;01mFileNotFoundError\u001b[39;00m(\u001b[38;5;124mf\u001b[39m\u001b[38;5;124m\"\u001b[39m\u001b[38;5;124mFile \u001b[39m\u001b[38;5;132;01m{\u001b[39;00mfilepath_or_buffer\u001b[38;5;132;01m}\u001b[39;00m\u001b[38;5;124m does not exist\u001b[39m\u001b[38;5;124m\"\u001b[39m)\n\u001b[1;32m    950\u001b[0m \u001b[38;5;28;01melse\u001b[39;00m:\n\u001b[1;32m    951\u001b[0m     warnings\u001b[38;5;241m.\u001b[39mwarn(\n\u001b[1;32m    952\u001b[0m         \u001b[38;5;124m\"\u001b[39m\u001b[38;5;124mPassing literal json to \u001b[39m\u001b[38;5;124m'\u001b[39m\u001b[38;5;124mread_json\u001b[39m\u001b[38;5;124m'\u001b[39m\u001b[38;5;124m is deprecated and \u001b[39m\u001b[38;5;124m\"\u001b[39m\n\u001b[1;32m    953\u001b[0m         \u001b[38;5;124m\"\u001b[39m\u001b[38;5;124mwill be removed in a future version. To read from a \u001b[39m\u001b[38;5;124m\"\u001b[39m\n\u001b[0;32m   (...)\u001b[0m\n\u001b[1;32m    956\u001b[0m         stacklevel\u001b[38;5;241m=\u001b[39mfind_stack_level(),\n\u001b[1;32m    957\u001b[0m     )\n",
      "\u001b[0;31mFileNotFoundError\u001b[0m: File allComplexes.json does not exist"
     ]
    }
   ],
   "source": [
    "# Read in the dataset of all complexes\n",
    "all_complexes = pd.read_json(\"allComplexes.json\")\n",
    "all_complexes.head(5)"
   ]
  },
  {
   "cell_type": "code",
   "execution_count": 3,
   "id": "47b4f686",
   "metadata": {},
   "outputs": [
    {
     "data": {
      "text/html": [
       "<div>\n",
       "<style scoped>\n",
       "    .dataframe tbody tr th:only-of-type {\n",
       "        vertical-align: middle;\n",
       "    }\n",
       "\n",
       "    .dataframe tbody tr th {\n",
       "        vertical-align: top;\n",
       "    }\n",
       "\n",
       "    .dataframe thead th {\n",
       "        text-align: right;\n",
       "    }\n",
       "</style>\n",
       "<table border=\"1\" class=\"dataframe\">\n",
       "  <thead>\n",
       "    <tr style=\"text-align: right;\">\n",
       "      <th></th>\n",
       "      <th>Functional Complex Group</th>\n",
       "      <th>Root</th>\n",
       "      <th>category_name</th>\n",
       "      <th>FCG assoc. Gene Ontology ID</th>\n",
       "      <th>ComplexID</th>\n",
       "      <th>ComplexName</th>\n",
       "      <th>Organism</th>\n",
       "      <th>Synonyms</th>\n",
       "      <th>Cell line</th>\n",
       "      <th>Subunits(UniProt IDs)</th>\n",
       "      <th>...</th>\n",
       "      <th>GO description</th>\n",
       "      <th>FunCat ID</th>\n",
       "      <th>FunCat description</th>\n",
       "      <th>subunits(Gene name)</th>\n",
       "      <th>Subunits comment</th>\n",
       "      <th>PubMed ID</th>\n",
       "      <th>Complex comment</th>\n",
       "      <th>SWISSPROT organism</th>\n",
       "      <th>subunits(Gene name syn)</th>\n",
       "      <th>subunits(Protein name)</th>\n",
       "    </tr>\n",
       "  </thead>\n",
       "  <tbody>\n",
       "    <tr>\n",
       "      <th>0</th>\n",
       "      <td>Cell adhesion mediated by integrin</td>\n",
       "      <td>Signaling molecules and interaction</td>\n",
       "      <td>Signaling molecules and interaction</td>\n",
       "      <td>GO:0098609</td>\n",
       "      <td>2350</td>\n",
       "      <td>ITGAV-ITGB5 complex</td>\n",
       "      <td>Human</td>\n",
       "      <td>alphaV-beta5 integrin complex</td>\n",
       "      <td>placenta cells</td>\n",
       "      <td>P06756;P06756;P06756;P18084;P18084;P18084</td>\n",
       "      <td>...</td>\n",
       "      <td>protein binding;cell adhesion;integrin complex...</td>\n",
       "      <td>16.01;34.07;16.01;34.07</td>\n",
       "      <td>protein binding;cell adhesion;protein binding;...</td>\n",
       "      <td>ITGAV;ITGAV;ITGAV;ITGB5;ITGB5;ITGB5</td>\n",
       "      <td>NaN</td>\n",
       "      <td>NaN</td>\n",
       "      <td>NaN</td>\n",
       "      <td>Homo sapiens (Human)</td>\n",
       "      <td>MSK8 VNRA VTNR</td>\n",
       "      <td>Integrin alpha-V</td>\n",
       "    </tr>\n",
       "    <tr>\n",
       "      <th>1</th>\n",
       "      <td>Cell adhesion mediated by integrin</td>\n",
       "      <td>Signaling molecules and interaction</td>\n",
       "      <td>Signaling molecules and interaction</td>\n",
       "      <td>GO:0098609</td>\n",
       "      <td>2354</td>\n",
       "      <td>ITGAV-ITGB6 complex</td>\n",
       "      <td>Human</td>\n",
       "      <td>alphaV-beta6 integrin complex</td>\n",
       "      <td>SW480 cells</td>\n",
       "      <td>P06756;P06756;P06756;P18564;P18564;P18564</td>\n",
       "      <td>...</td>\n",
       "      <td>protein binding;integrin complex;cell adhesion...</td>\n",
       "      <td>16.01;34.07;16.01;34.07</td>\n",
       "      <td>protein binding;cell adhesion;protein binding;...</td>\n",
       "      <td>ITGAV;ITGAV;ITGAV;ITGB6;ITGB6;ITGB6</td>\n",
       "      <td>NaN</td>\n",
       "      <td>NaN</td>\n",
       "      <td>Cells expressing alpha(v)beta6 attach, but les...</td>\n",
       "      <td>Homo sapiens (Human)</td>\n",
       "      <td>MSK8 VNRA VTNR</td>\n",
       "      <td>Integrin alpha-V</td>\n",
       "    </tr>\n",
       "    <tr>\n",
       "      <th>2</th>\n",
       "      <td>Cell adhesion mediated by integrin</td>\n",
       "      <td>Signaling molecules and interaction</td>\n",
       "      <td>Signaling molecules and interaction</td>\n",
       "      <td>GO:0098609</td>\n",
       "      <td>2381</td>\n",
       "      <td>ITGA2B-ITGB3 complex</td>\n",
       "      <td>Human</td>\n",
       "      <td>beta2B-beta3 integrin complex</td>\n",
       "      <td>in vitro</td>\n",
       "      <td>P05106;P05106;P08514;P08514</td>\n",
       "      <td>...</td>\n",
       "      <td>integrin complex;cell adhesion;integrin comple...</td>\n",
       "      <td>34.07;34.07</td>\n",
       "      <td>cell adhesion;cell adhesion</td>\n",
       "      <td>ITGB3;ITGB3;ITGA2B;ITGA2B</td>\n",
       "      <td>NaN</td>\n",
       "      <td>NaN</td>\n",
       "      <td>NaN</td>\n",
       "      <td>Homo sapiens (Human)</td>\n",
       "      <td>GP3A</td>\n",
       "      <td>Integrin beta-3</td>\n",
       "    </tr>\n",
       "    <tr>\n",
       "      <th>3</th>\n",
       "      <td>Cell adhesion mediated by integrin</td>\n",
       "      <td>Signaling molecules and interaction</td>\n",
       "      <td>Signaling molecules and interaction</td>\n",
       "      <td>GO:0098609</td>\n",
       "      <td>2385</td>\n",
       "      <td>ITGA5-ITGB4 complex</td>\n",
       "      <td>Human</td>\n",
       "      <td>alpha5-beta4 integrin complex</td>\n",
       "      <td>fibroblasts GM334 cells</td>\n",
       "      <td>P05556;P05556;P08648;P08648</td>\n",
       "      <td>...</td>\n",
       "      <td>cell adhesion;integrin complex;cell adhesion;i...</td>\n",
       "      <td>34.07;34.07</td>\n",
       "      <td>cell adhesion;cell adhesion</td>\n",
       "      <td>ITGB1;ITGB1;ITGA5;ITGA5</td>\n",
       "      <td>NaN</td>\n",
       "      <td>NaN</td>\n",
       "      <td>NaN</td>\n",
       "      <td>Homo sapiens (Human)</td>\n",
       "      <td>FNRB, MDF2, MSK12</td>\n",
       "      <td>Integrin beta-1</td>\n",
       "    </tr>\n",
       "    <tr>\n",
       "      <th>4</th>\n",
       "      <td>Cell adhesion mediated by integrin</td>\n",
       "      <td>Signaling molecules and interaction</td>\n",
       "      <td>Signaling molecules and interaction</td>\n",
       "      <td>GO:0098609</td>\n",
       "      <td>2406</td>\n",
       "      <td>ITGA3-ITGB1 complex</td>\n",
       "      <td>Human</td>\n",
       "      <td>alpha3-beta1 integrin compex</td>\n",
       "      <td>fibroblast GM3349 cells</td>\n",
       "      <td>P05556;P05556;P26006;P26006</td>\n",
       "      <td>...</td>\n",
       "      <td>cell adhesion;integrin complex;cell adhesion;i...</td>\n",
       "      <td>34.07;34.07</td>\n",
       "      <td>cell adhesion;cell adhesion</td>\n",
       "      <td>ITGB1;ITGB1;ITGA3;ITGA3</td>\n",
       "      <td>NaN</td>\n",
       "      <td>NaN</td>\n",
       "      <td>NaN</td>\n",
       "      <td>Homo sapiens (Human)</td>\n",
       "      <td>FNRB, MDF2, MSK12</td>\n",
       "      <td>Integrin beta-1</td>\n",
       "    </tr>\n",
       "  </tbody>\n",
       "</table>\n",
       "<p>5 rows × 23 columns</p>\n",
       "</div>"
      ],
      "text/plain": [
       "             Functional Complex Group                                 Root  \\\n",
       "0  Cell adhesion mediated by integrin  Signaling molecules and interaction   \n",
       "1  Cell adhesion mediated by integrin  Signaling molecules and interaction   \n",
       "2  Cell adhesion mediated by integrin  Signaling molecules and interaction   \n",
       "3  Cell adhesion mediated by integrin  Signaling molecules and interaction   \n",
       "4  Cell adhesion mediated by integrin  Signaling molecules and interaction   \n",
       "\n",
       "                         category_name FCG assoc. Gene Ontology ID  ComplexID  \\\n",
       "0  Signaling molecules and interaction                  GO:0098609       2350   \n",
       "1  Signaling molecules and interaction                  GO:0098609       2354   \n",
       "2  Signaling molecules and interaction                  GO:0098609       2381   \n",
       "3  Signaling molecules and interaction                  GO:0098609       2385   \n",
       "4  Signaling molecules and interaction                  GO:0098609       2406   \n",
       "\n",
       "            ComplexName Organism                       Synonyms  \\\n",
       "0   ITGAV-ITGB5 complex    Human  alphaV-beta5 integrin complex   \n",
       "1   ITGAV-ITGB6 complex    Human  alphaV-beta6 integrin complex   \n",
       "2  ITGA2B-ITGB3 complex    Human  beta2B-beta3 integrin complex   \n",
       "3   ITGA5-ITGB4 complex    Human  alpha5-beta4 integrin complex   \n",
       "4   ITGA3-ITGB1 complex    Human   alpha3-beta1 integrin compex   \n",
       "\n",
       "                 Cell line                      Subunits(UniProt IDs)  ...  \\\n",
       "0           placenta cells  P06756;P06756;P06756;P18084;P18084;P18084  ...   \n",
       "1              SW480 cells  P06756;P06756;P06756;P18564;P18564;P18564  ...   \n",
       "2                 in vitro                P05106;P05106;P08514;P08514  ...   \n",
       "3  fibroblasts GM334 cells                P05556;P05556;P08648;P08648  ...   \n",
       "4  fibroblast GM3349 cells                P05556;P05556;P26006;P26006  ...   \n",
       "\n",
       "                                      GO description                FunCat ID  \\\n",
       "0  protein binding;cell adhesion;integrin complex...  16.01;34.07;16.01;34.07   \n",
       "1  protein binding;integrin complex;cell adhesion...  16.01;34.07;16.01;34.07   \n",
       "2  integrin complex;cell adhesion;integrin comple...              34.07;34.07   \n",
       "3  cell adhesion;integrin complex;cell adhesion;i...              34.07;34.07   \n",
       "4  cell adhesion;integrin complex;cell adhesion;i...              34.07;34.07   \n",
       "\n",
       "                                  FunCat description  \\\n",
       "0  protein binding;cell adhesion;protein binding;...   \n",
       "1  protein binding;cell adhesion;protein binding;...   \n",
       "2                        cell adhesion;cell adhesion   \n",
       "3                        cell adhesion;cell adhesion   \n",
       "4                        cell adhesion;cell adhesion   \n",
       "\n",
       "                   subunits(Gene name) Subunits comment PubMed ID  \\\n",
       "0  ITGAV;ITGAV;ITGAV;ITGB5;ITGB5;ITGB5              NaN       NaN   \n",
       "1  ITGAV;ITGAV;ITGAV;ITGB6;ITGB6;ITGB6              NaN       NaN   \n",
       "2            ITGB3;ITGB3;ITGA2B;ITGA2B              NaN       NaN   \n",
       "3              ITGB1;ITGB1;ITGA5;ITGA5              NaN       NaN   \n",
       "4              ITGB1;ITGB1;ITGA3;ITGA3              NaN       NaN   \n",
       "\n",
       "                                     Complex comment    SWISSPROT organism  \\\n",
       "0                                                NaN  Homo sapiens (Human)   \n",
       "1  Cells expressing alpha(v)beta6 attach, but les...  Homo sapiens (Human)   \n",
       "2                                                NaN  Homo sapiens (Human)   \n",
       "3                                                NaN  Homo sapiens (Human)   \n",
       "4                                                NaN  Homo sapiens (Human)   \n",
       "\n",
       "   subunits(Gene name syn) subunits(Protein name)  \n",
       "0           MSK8 VNRA VTNR       Integrin alpha-V  \n",
       "1           MSK8 VNRA VTNR       Integrin alpha-V  \n",
       "2                     GP3A        Integrin beta-3  \n",
       "3        FNRB, MDF2, MSK12        Integrin beta-1  \n",
       "4        FNRB, MDF2, MSK12        Integrin beta-1  \n",
       "\n",
       "[5 rows x 23 columns]"
      ]
     },
     "execution_count": 3,
     "metadata": {},
     "output_type": "execute_result"
    }
   ],
   "source": [
    "# Read in the dataset of functional complex groups\n",
    "fcg = pd.read_csv(\"fcg.txt\", sep = \"\\t\")\n",
    "fcg.head(5)"
   ]
  },
  {
   "cell_type": "code",
   "execution_count": 4,
   "id": "24599549",
   "metadata": {},
   "outputs": [
    {
     "name": "stdout",
     "output_type": "stream",
     "text": [
      "['BCL6;HDAC4', 'BCL6;HDAC5', 'BCL6;HDAC7', 'EP300;CREBBP;KAT2B;NCOA3', 'SMC2;NCAPH;NCAPD2;NCAPG;SMC4']\n",
      "['ITGAV;ITGAV;ITGAV;ITGB5;ITGB5;ITGB5', 'ITGAV;ITGAV;ITGAV;ITGB6;ITGB6;ITGB6', 'ITGB3;ITGB3;ITGA2B;ITGA2B', 'ITGB1;ITGB1;ITGA5;ITGA5', 'ITGB1;ITGB1;ITGA3;ITGA3']\n"
     ]
    }
   ],
   "source": [
    "# Data pre-processing------\n",
    "# All complexes' subunit genes\n",
    "allGenes = all_complexes[all_complexes['Organism'] == 'Human']['subunits(Gene name)']\n",
    "allGenes = allGenes.tolist()\n",
    "allHumanComplexes = all_complexes[all_complexes['Organism'] == 'Human']\n",
    "\n",
    "# only fcg\n",
    "fcgGenes = fcg[fcg['Organism'] == 'Human']['subunits(Gene name)']\n",
    "fcgGenes = fcgGenes.tolist()\n",
    "fcgHumanComplexes = fcg[fcg['Organism'] == 'Human']\n",
    "print(allGenes[:5])\n",
    "print(fcgGenes[:5])"
   ]
  },
  {
   "cell_type": "code",
   "execution_count": 5,
   "id": "afa72ac5",
   "metadata": {},
   "outputs": [],
   "source": [
    "# Positive Control List Generation------\n",
    "def PositiveControlGeneration(df, geneList):\n",
    "    \n",
    "    eachComplex_dict = {}\n",
    "    \n",
    "    for i in range(len(df)):\n",
    "        complexID = df.iloc[i]['ComplexID']\n",
    "        genesInEachComplex = geneList[i].split(\";\")\n",
    "        genesInEachComplex = list(set(genesInEachComplex))\n",
    "        howManyGenes = len(genesInEachComplex)\n",
    "        \n",
    "        if howManyGenes > 2:\n",
    "            random.shuffle(genesInEachComplex)\n",
    "            genePairList = []\n",
    "            \n",
    "            if howManyGenes % 2 == 0:\n",
    "                \n",
    "                numGenePair = howManyGenes // 2\n",
    "\n",
    "            else: \n",
    "                numGenePair = (howManyGenes - 1) // 2\n",
    "            \n",
    "                \n",
    "            for j in range(numGenePair):\n",
    "                genePairList.append([genesInEachComplex[2*j], genesInEachComplex[2*j + 1]])\n",
    "            eachComplex_dict[complexID] = genePairList\n",
    "                \n",
    "        \n",
    "        elif howManyGenes == 2:\n",
    "            eachComplex_dict[complexID] = [genesInEachComplex]\n",
    "        \n",
    "        else:\n",
    "            eachComplex_dict[complexID] = []\n",
    "            \n",
    "    return eachComplex_dict\n",
    "\n",
    "        "
   ]
  },
  {
   "cell_type": "code",
   "execution_count": 6,
   "id": "f0ff0340",
   "metadata": {},
   "outputs": [],
   "source": [
    "# Positive Control Lists Calling\n",
    "FirstPositiveControl = PositiveControlGeneration(allHumanComplexes, allGenes)\n",
    "SecondPositiveControl = PositiveControlGeneration(allHumanComplexes, allGenes)\n",
    "ThirdPositiveControl = PositiveControlGeneration(allHumanComplexes, allGenes)\n",
    "FourthPositiveControl = PositiveControlGeneration(allHumanComplexes, allGenes)\n",
    "FifthPositiveControl = PositiveControlGeneration(allHumanComplexes, allGenes)"
   ]
  },
  {
   "cell_type": "code",
   "execution_count": 7,
   "id": "aac4940d",
   "metadata": {},
   "outputs": [
    {
     "name": "stdout",
     "output_type": "stream",
     "text": [
      "[['BCL6', 'HDAC4'], ['BCL6', 'HDAC5'], ['BCL6', 'HDAC7'], ['EP300', 'CREBBP', 'KAT2B', 'NCOA3'], ['SMC2', 'NCAPH', 'NCAPD2', 'NCAPG', 'SMC4']]\n",
      "['MRTFA', 'PLIN3', 'PLXNB1', 'TSG101', 'PRKAG1']\n"
     ]
    },
    {
     "data": {
      "text/plain": [
       "4424"
      ]
     },
     "execution_count": 7,
     "metadata": {},
     "output_type": "execute_result"
    }
   ],
   "source": [
    "# Create a matrix to who whether two distinct genes are in the same complexes------\n",
    "# Create a list of strings of all unique genes------\n",
    "rawGeneList = [string.split(';') for string in allGenes]\n",
    "print(rawGeneList[:5])\n",
    "flattenGeneList = list(itertools.chain.from_iterable(rawGeneList))\n",
    "flattenGeneList = list(set(flattenGeneList))\n",
    "print(flattenGeneList[:5])\n",
    "len(flattenGeneList)"
   ]
  },
  {
   "cell_type": "code",
   "execution_count": 8,
   "id": "44514864",
   "metadata": {},
   "outputs": [
    {
     "name": "stdout",
     "output_type": "stream",
     "text": [
      "(4424, 4424)\n"
     ]
    },
    {
     "data": {
      "text/plain": [
       "array([[0, 0, 0, ..., 0, 0, 0],\n",
       "       [0, 0, 0, ..., 0, 0, 0],\n",
       "       [0, 0, 0, ..., 0, 0, 0],\n",
       "       ...,\n",
       "       [0, 0, 0, ..., 0, 0, 0],\n",
       "       [0, 0, 0, ..., 0, 0, 0],\n",
       "       [0, 0, 0, ..., 0, 0, 0]])"
      ]
     },
     "execution_count": 8,
     "metadata": {},
     "output_type": "execute_result"
    }
   ],
   "source": [
    "# Universal truth matrix of positive interacting subunit-----\n",
    "nrow = len(flattenGeneList)\n",
    "ncol = len(flattenGeneList)\n",
    "\n",
    "rows = [0 for number in range(nrow**2)]\n",
    "values = np.array(rows)\n",
    "matrix = values.reshape(-1, nrow)\n",
    "matrix.shape == (nrow, ncol)\n",
    "print(matrix.shape)\n",
    "matrix"
   ]
  },
  {
   "cell_type": "code",
   "execution_count": 9,
   "id": "b2ca68a9",
   "metadata": {},
   "outputs": [],
   "source": [
    "# Create a dictionary that contains all unique human genes in one complex------\n",
    "oneComplexGenes = dict()\n",
    "for a in range(len(allHumanComplexes)):\n",
    "    complex_id = int(allHumanComplexes.iloc[a]['ComplexID'])\n",
    "    whatGenesinThatComplex = allHumanComplexes.iloc[a]['subunits(Gene name)']\n",
    "    whatGenesinThatComplex = whatGenesinThatComplex.split(';')\n",
    "    whatUniqueGenesinThatComplex = list(set(whatGenesinThatComplex))\n",
    "    oneComplexGenes[complex_id] = whatUniqueGenesinThatComplex"
   ]
  },
  {
   "cell_type": "code",
   "execution_count": 10,
   "id": "483c4626",
   "metadata": {},
   "outputs": [
    {
     "data": {
      "text/plain": [
       "True"
      ]
     },
     "execution_count": 10,
     "metadata": {},
     "output_type": "execute_result"
    }
   ],
   "source": [
    "# Check wheter all unique human gene indice are included in the matrix-----\n",
    "def flatten_dict_to_list(d):\n",
    "    return [item for sublist in d.values() for item in sublist]\n",
    "\n",
    "testComplexGenes = flatten_dict_to_list(oneComplexGenes)\n",
    "len(list(set(testComplexGenes))) == nrow"
   ]
  },
  {
   "cell_type": "code",
   "execution_count": 11,
   "id": "c406c02b",
   "metadata": {},
   "outputs": [],
   "source": [
    "# Create a dictionary that summaries all associated genes with a gene\n",
    "associatedGenes = dict()\n",
    "for i in flattenGeneList:\n",
    "    associatedList = []\n",
    "    for j in oneComplexGenes.keys():\n",
    "        if i in oneComplexGenes[j]:\n",
    "            associatedGenesInThisComplex = [item for item in oneComplexGenes[j] if item != i]\n",
    "            associatedList.extend(associatedGenesInThisComplex)\n",
    "            associatedGenes[i] = list(set(associatedList))"
   ]
  },
  {
   "cell_type": "code",
   "execution_count": 12,
   "id": "5398646e",
   "metadata": {},
   "outputs": [
    {
     "data": {
      "text/plain": [
       "array([[1, 0, 0, ..., 0, 0, 0],\n",
       "       [0, 1, 0, ..., 0, 0, 0],\n",
       "       [0, 0, 1, ..., 0, 0, 0],\n",
       "       ...,\n",
       "       [0, 0, 0, ..., 1, 0, 0],\n",
       "       [0, 0, 0, ..., 0, 1, 0],\n",
       "       [0, 0, 0, ..., 0, 0, 1]])"
      ]
     },
     "execution_count": 12,
     "metadata": {},
     "output_type": "execute_result"
    }
   ],
   "source": [
    "# Finally update the matrix If it is the same gene or they are in the same Complexes, then assign 1\n",
    "for gene1_index in range(len(flattenGeneList)):\n",
    "    for gene2_index in range(len(flattenGeneList)):\n",
    "        gene1 = flattenGeneList[gene1_index]\n",
    "        gene2 = flattenGeneList[gene2_index]\n",
    "        if gene1 == gene2:\n",
    "            matrix[gene1_index, gene2_index] = 1\n",
    "        else:\n",
    "            gene1associatedGenes = associatedGenes.get(gene1, [])\n",
    "\n",
    "            if gene2 in gene1associatedGenes:\n",
    "                matrix[gene1_index, gene2_index] = 1\n",
    "            else:\n",
    "                matrix[gene1_index, gene2_index] = 0\n",
    "\n",
    "matrix # but this can only check whether they are in the same complex, not the final list for selecting negative control"
   ]
  },
  {
   "cell_type": "code",
   "execution_count": 13,
   "id": "dca9b832",
   "metadata": {},
   "outputs": [
    {
     "data": {
      "text/plain": [
       "19475148"
      ]
     },
     "execution_count": 13,
     "metadata": {},
     "output_type": "execute_result"
    }
   ],
   "source": [
    "np.count_nonzero(matrix == 0)"
   ]
  },
  {
   "cell_type": "code",
   "execution_count": 14,
   "id": "cc9ee9a7",
   "metadata": {
    "scrolled": true
   },
   "outputs": [
    {
     "name": "stdout",
     "output_type": "stream",
     "text": [
      "6534\n"
     ]
    },
    {
     "data": {
      "text/html": [
       "<div>\n",
       "<style scoped>\n",
       "    .dataframe tbody tr th:only-of-type {\n",
       "        vertical-align: middle;\n",
       "    }\n",
       "\n",
       "    .dataframe tbody tr th {\n",
       "        vertical-align: top;\n",
       "    }\n",
       "\n",
       "    .dataframe thead th {\n",
       "        text-align: right;\n",
       "    }\n",
       "</style>\n",
       "<table border=\"1\" class=\"dataframe\">\n",
       "  <thead>\n",
       "    <tr style=\"text-align: right;\">\n",
       "      <th></th>\n",
       "      <th>Gene1</th>\n",
       "      <th>Gene2</th>\n",
       "    </tr>\n",
       "  </thead>\n",
       "  <tbody>\n",
       "    <tr>\n",
       "      <th>0</th>\n",
       "      <td>HDAC4</td>\n",
       "      <td>BCL6</td>\n",
       "    </tr>\n",
       "    <tr>\n",
       "      <th>1</th>\n",
       "      <td>HDAC5</td>\n",
       "      <td>BCL6</td>\n",
       "    </tr>\n",
       "    <tr>\n",
       "      <th>2</th>\n",
       "      <td>BCL6</td>\n",
       "      <td>HDAC7</td>\n",
       "    </tr>\n",
       "    <tr>\n",
       "      <th>3</th>\n",
       "      <td>EP300</td>\n",
       "      <td>NCOA3</td>\n",
       "    </tr>\n",
       "    <tr>\n",
       "      <th>4</th>\n",
       "      <td>KAT2B</td>\n",
       "      <td>CREBBP</td>\n",
       "    </tr>\n",
       "    <tr>\n",
       "      <th>5</th>\n",
       "      <td>NCAPG</td>\n",
       "      <td>SMC2</td>\n",
       "    </tr>\n",
       "    <tr>\n",
       "      <th>6</th>\n",
       "      <td>NCAPH</td>\n",
       "      <td>SMC4</td>\n",
       "    </tr>\n",
       "    <tr>\n",
       "      <th>7</th>\n",
       "      <td>HPS1</td>\n",
       "      <td>HPS4</td>\n",
       "    </tr>\n",
       "    <tr>\n",
       "      <th>8</th>\n",
       "      <td>HPS3</td>\n",
       "      <td>HPS6</td>\n",
       "    </tr>\n",
       "    <tr>\n",
       "      <th>9</th>\n",
       "      <td>CDS1</td>\n",
       "      <td>MUS81</td>\n",
       "    </tr>\n",
       "  </tbody>\n",
       "</table>\n",
       "</div>"
      ],
      "text/plain": [
       "   Gene1   Gene2\n",
       "0  HDAC4    BCL6\n",
       "1  HDAC5    BCL6\n",
       "2   BCL6   HDAC7\n",
       "3  EP300   NCOA3\n",
       "4  KAT2B  CREBBP\n",
       "5  NCAPG    SMC2\n",
       "6  NCAPH    SMC4\n",
       "7   HPS1    HPS4\n",
       "8   HPS3    HPS6\n",
       "9   CDS1   MUS81"
      ]
     },
     "execution_count": 14,
     "metadata": {},
     "output_type": "execute_result"
    }
   ],
   "source": [
    "# Convert the Positive Control into a dataframe which is convenient for converting into a csv------\n",
    "def flatten_gene_dict(gene_dict):\n",
    "    listGenePairs = [gene_pair for sublist in gene_dict.values() for gene_pair in sublist]\n",
    "    df = pd.DataFrame(listGenePairs, columns = ['Gene1', 'Gene2'])\n",
    "    return df\n",
    "\n",
    "FirstPositiveControlDF = flatten_gene_dict(FirstPositiveControl)\n",
    "print(len(FirstPositiveControlDF))\n",
    "FirstPositiveControlDF.head(10)"
   ]
  },
  {
   "cell_type": "code",
   "execution_count": 15,
   "id": "30c34f69",
   "metadata": {},
   "outputs": [],
   "source": [
    "SecondPositiveControlDF = flatten_gene_dict(SecondPositiveControl)\n",
    "ThirdPositiveControlDF = flatten_gene_dict(ThirdPositiveControl)\n",
    "FourthPositiveControlDF = flatten_gene_dict(FourthPositiveControl)\n",
    "FifthPositiveControlDF = flatten_gene_dict(FifthPositiveControl)"
   ]
  },
  {
   "cell_type": "code",
   "execution_count": 16,
   "id": "9cc76eb2",
   "metadata": {},
   "outputs": [
    {
     "data": {
      "text/plain": [
       "6534"
      ]
     },
     "execution_count": 16,
     "metadata": {},
     "output_type": "execute_result"
    }
   ],
   "source": [
    "len(SecondPositiveControlDF)"
   ]
  },
  {
   "cell_type": "code",
   "execution_count": 17,
   "id": "d3299767",
   "metadata": {},
   "outputs": [],
   "source": [
    "# Negative Control List Generation-------\n",
    "def NegativeControlGeneration(pairedPositiveControlDF, interactingMatrix, flattenGenes):\n",
    "    Gene1List = pairedPositiveControlDF['Gene1']\n",
    "    Gene2List = pairedPositiveControlDF['Gene2'].tolist()\n",
    "    random.shuffle(Gene2List)\n",
    "    \n",
    "    # Make a pseudo negative control df \n",
    "    pseudoNegPairDF = pd.DataFrame({'Gene1': Gene1List, 'Gene2': Gene2List})\n",
    "    \n",
    "    rows_to_drop = []\n",
    "    for i in range(len(pseudoNegPairDF)):\n",
    "        gene1 = pseudoNegPairDF.iloc[i]['Gene1']\n",
    "        gene2 = pseudoNegPairDF.iloc[i]['Gene2']\n",
    "        gene1_index = flattenGenes.index(gene1)\n",
    "        gene2_index = flattenGenes.index(gene2)\n",
    "        \n",
    "        if interactingMatrix[gene1_index, gene2_index] != 0:\n",
    "            rows_to_drop.append(i)\n",
    "    \n",
    "    pseudoNegPairDF = pseudoNegPairDF.drop(index = rows_to_drop)\n",
    "            \n",
    "    return pseudoNegPairDF"
   ]
  },
  {
   "cell_type": "code",
   "execution_count": 18,
   "id": "e5579011",
   "metadata": {
    "scrolled": true
   },
   "outputs": [
    {
     "data": {
      "text/html": [
       "<div>\n",
       "<style scoped>\n",
       "    .dataframe tbody tr th:only-of-type {\n",
       "        vertical-align: middle;\n",
       "    }\n",
       "\n",
       "    .dataframe tbody tr th {\n",
       "        vertical-align: top;\n",
       "    }\n",
       "\n",
       "    .dataframe thead th {\n",
       "        text-align: right;\n",
       "    }\n",
       "</style>\n",
       "<table border=\"1\" class=\"dataframe\">\n",
       "  <thead>\n",
       "    <tr style=\"text-align: right;\">\n",
       "      <th></th>\n",
       "      <th>Gene1</th>\n",
       "      <th>Gene2</th>\n",
       "    </tr>\n",
       "  </thead>\n",
       "  <tbody>\n",
       "    <tr>\n",
       "      <th>0</th>\n",
       "      <td>HDAC4</td>\n",
       "      <td>DLG5</td>\n",
       "    </tr>\n",
       "    <tr>\n",
       "      <th>1</th>\n",
       "      <td>HDAC5</td>\n",
       "      <td>MED6</td>\n",
       "    </tr>\n",
       "    <tr>\n",
       "      <th>2</th>\n",
       "      <td>BCL6</td>\n",
       "      <td>ARMC8</td>\n",
       "    </tr>\n",
       "    <tr>\n",
       "      <th>3</th>\n",
       "      <td>EP300</td>\n",
       "      <td>LPAR2</td>\n",
       "    </tr>\n",
       "    <tr>\n",
       "      <th>4</th>\n",
       "      <td>KAT2B</td>\n",
       "      <td>SHLD3</td>\n",
       "    </tr>\n",
       "  </tbody>\n",
       "</table>\n",
       "</div>"
      ],
      "text/plain": [
       "   Gene1  Gene2\n",
       "0  HDAC4   DLG5\n",
       "1  HDAC5   MED6\n",
       "2   BCL6  ARMC8\n",
       "3  EP300  LPAR2\n",
       "4  KAT2B  SHLD3"
      ]
     },
     "execution_count": 18,
     "metadata": {},
     "output_type": "execute_result"
    }
   ],
   "source": [
    "FirstNegativeControl = NegativeControlGeneration(FirstPositiveControlDF, matrix, flattenGeneList)\n",
    "FirstNegativeControl.head(5)"
   ]
  },
  {
   "cell_type": "code",
   "execution_count": 19,
   "id": "75de5093",
   "metadata": {
    "scrolled": true
   },
   "outputs": [
    {
     "data": {
      "text/plain": [
       "6365"
      ]
     },
     "execution_count": 19,
     "metadata": {},
     "output_type": "execute_result"
    }
   ],
   "source": [
    "len(FirstNegativeControl)"
   ]
  },
  {
   "cell_type": "code",
   "execution_count": 20,
   "id": "ce3ca952",
   "metadata": {},
   "outputs": [],
   "source": [
    "SecondNegativeControl = NegativeControlGeneration(SecondPositiveControlDF, matrix, flattenGeneList)\n",
    "ThirdNegativeControl = NegativeControlGeneration(ThirdPositiveControlDF, matrix, flattenGeneList)\n",
    "FourthNegativeControl = NegativeControlGeneration(FourthPositiveControlDF, matrix, flattenGeneList)\n",
    "FifthNegativeControl = NegativeControlGeneration(FifthPositiveControlDF, matrix, flattenGeneList)"
   ]
  },
  {
   "cell_type": "code",
   "execution_count": 21,
   "id": "7af77776",
   "metadata": {},
   "outputs": [
    {
     "name": "stdout",
     "output_type": "stream",
     "text": [
      "6354 6357 6376 6360\n"
     ]
    }
   ],
   "source": [
    "print(len(SecondNegativeControl), len(ThirdNegativeControl), len(FourthNegativeControl), len(FifthNegativeControl))"
   ]
  },
  {
   "cell_type": "code",
   "execution_count": 22,
   "id": "bf595b15",
   "metadata": {},
   "outputs": [],
   "source": [
    "# Sanity Check-------\n",
    "\n",
    "def SanityCheck(NegativeControl):\n",
    "    \n",
    "    sameComplexCount = 0\n",
    "    for i in range(len(NegativeControl)):\n",
    "        gene1 = NegativeControl.iloc[i]['Gene1']\n",
    "        gene2 = NegativeControl.iloc[i]['Gene2']\n",
    "        gene1associatedGenes = associatedGenes[gene1]\n",
    "        if gene2 in gene1associatedGenes:\n",
    "            sameComplexCount += 1\n",
    "            \n",
    "    return sameComplexCount\n"
   ]
  },
  {
   "cell_type": "code",
   "execution_count": 23,
   "id": "6349e041",
   "metadata": {},
   "outputs": [
    {
     "name": "stdout",
     "output_type": "stream",
     "text": [
      "0 0 0 0 0\n"
     ]
    }
   ],
   "source": [
    "print(SanityCheck(FirstNegativeControl), SanityCheck(SecondNegativeControl), SanityCheck(ThirdNegativeControl), SanityCheck(FourthNegativeControl), SanityCheck(FifthNegativeControl))"
   ]
  },
  {
   "cell_type": "code",
   "execution_count": 24,
   "id": "9892ada8",
   "metadata": {},
   "outputs": [
    {
     "data": {
      "text/plain": [
       "'/home/wguo'"
      ]
     },
     "execution_count": 24,
     "metadata": {},
     "output_type": "execute_result"
    }
   ],
   "source": [
    "os.getcwd()"
   ]
  },
  {
   "cell_type": "code",
   "execution_count": 25,
   "id": "5d4beac6",
   "metadata": {},
   "outputs": [],
   "source": [
    "FirstPositiveControlDF.to_csv('FirstPositiveControl.csv', index = False)\n",
    "FirstNegativeControl.to_csv('FirstNegativeControl.csv', index = False)"
   ]
  },
  {
   "cell_type": "code",
   "execution_count": 26,
   "id": "e4aa38e3",
   "metadata": {},
   "outputs": [],
   "source": [
    "SecondPositiveControlDF.to_csv('SecondPositiveControl.csv', index = False)\n",
    "SecondNegativeControl.to_csv('SecondNegativeControl.csv', index = False)"
   ]
  },
  {
   "cell_type": "code",
   "execution_count": 27,
   "id": "32562f26",
   "metadata": {},
   "outputs": [],
   "source": [
    "ThirdPositiveControlDF.to_csv('ThirdPositiveControl.csv', index = False)\n",
    "ThirdNegativeControl.to_csv('ThirdNegativeControl.csv', index = False)"
   ]
  },
  {
   "cell_type": "code",
   "execution_count": 28,
   "id": "4604b3ea",
   "metadata": {},
   "outputs": [],
   "source": [
    "FourthPositiveControlDF.to_csv('FourthPositiveControl.csv', index = False)\n",
    "FourthNegativeControl.to_csv('FourthNegativeControl.csv', index = False)"
   ]
  },
  {
   "cell_type": "code",
   "execution_count": 29,
   "id": "740edd3f",
   "metadata": {},
   "outputs": [],
   "source": [
    "FifthPositiveControlDF.to_csv('FifthPositiveControl.csv', index = False)\n",
    "FifthNegativeControl.to_csv('FifthNegativeControl.csv', index = False)"
   ]
  },
  {
   "cell_type": "code",
   "execution_count": 30,
   "id": "a7950b3c",
   "metadata": {},
   "outputs": [],
   "source": [
    "folder_name = 'AllPositiveAndNegativeControl'\n",
    "os.makedirs(folder_name, exist_ok = True)\n",
    "files_to_move = [f for f in os.listdir() if f.endswith('.csv')]\n",
    "\n",
    "for file in files_to_move:\n",
    "    shutil.move(file, os.path.join(folder_name, file))"
   ]
  },
  {
   "cell_type": "code",
   "execution_count": null,
   "id": "688f3d8d",
   "metadata": {},
   "outputs": [],
   "source": []
  }
 ],
 "metadata": {
  "kernelspec": {
   "display_name": "Python 3 (ipykernel)",
   "language": "python",
   "name": "python3"
  },
  "language_info": {
   "codemirror_mode": {
    "name": "ipython",
    "version": 3
   },
   "file_extension": ".py",
   "mimetype": "text/x-python",
   "name": "python",
   "nbconvert_exporter": "python",
   "pygments_lexer": "ipython3",
   "version": "3.11.7"
  }
 },
 "nbformat": 4,
 "nbformat_minor": 5
}
