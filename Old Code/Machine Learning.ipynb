{
 "cells": [
  {
   "cell_type": "code",
   "execution_count": 145,
   "id": "c18b3a7f",
   "metadata": {},
   "outputs": [],
   "source": [
    "import numpy as np\n",
    "import pandas as pd\n",
    "import matplotlib.pyplot as plt\n",
    "from sklearn.model_selection import train_test_split\n",
    "from sklearn.preprocessing import StandardScaler\n",
    "from sklearn.svm import SVC\n",
    "from sklearn.svm import SVR\n",
    "from sklearn.metrics import accuracy_score, classification_report, confusion_matrix\n",
    "from itertools import compress\n",
    "from scipy import stats\n",
    "import random\n",
    "from bisect import bisect\n",
    "import warnings"
   ]
  },
  {
   "cell_type": "code",
   "execution_count": 3,
   "id": "f89f2d90",
   "metadata": {},
   "outputs": [],
   "source": [
    "data = pd.read_csv(r\"C:\\Users\\justi\\Coding\\Project\\Han Xu\\dataset_trimmed_v2.csv\")"
   ]
  },
  {
   "cell_type": "code",
   "execution_count": 4,
   "id": "6c4e78c2",
   "metadata": {
    "scrolled": false
   },
   "outputs": [
    {
     "data": {
      "text/plain": [
       "62"
      ]
     },
     "execution_count": 4,
     "metadata": {},
     "output_type": "execute_result"
    }
   ],
   "source": [
    "oncogenes = pd.read_csv(r\"C:\\Users\\justi\\Coding\\Project\\Han Xu\\oncogene.txt\").to_numpy().flatten()\n",
    "oncogenes = np.append(oncogenes,'MYCL')\n",
    "oncogenes = np.array(list(set(oncogenes).intersection(data.iloc[:,0])))\n",
    "oncogenes.size"
   ]
  },
  {
   "cell_type": "code",
   "execution_count": 5,
   "id": "8f28f5a7",
   "metadata": {
    "scrolled": false
   },
   "outputs": [
    {
     "data": {
      "text/html": [
       "<div>\n",
       "<style scoped>\n",
       "    .dataframe tbody tr th:only-of-type {\n",
       "        vertical-align: middle;\n",
       "    }\n",
       "\n",
       "    .dataframe tbody tr th {\n",
       "        vertical-align: top;\n",
       "    }\n",
       "\n",
       "    .dataframe thead th {\n",
       "        text-align: right;\n",
       "    }\n",
       "</style>\n",
       "<table border=\"1\" class=\"dataframe\">\n",
       "  <thead>\n",
       "    <tr style=\"text-align: right;\">\n",
       "      <th></th>\n",
       "      <th>gene name</th>\n",
       "      <th>gene_exp.copy_num.0</th>\n",
       "      <th>gene_exp.copy_num.1</th>\n",
       "      <th>gene_exp.copy_num.2</th>\n",
       "      <th>gene_exp.copy_num.3</th>\n",
       "      <th>gene_exp.copy_num.4</th>\n",
       "      <th>gene_exp.copy_num.5</th>\n",
       "      <th>gene_exp.copy_num.6</th>\n",
       "      <th>gene_exp.copy_num.7</th>\n",
       "      <th>gene_exp.copy_num.8</th>\n",
       "      <th>...</th>\n",
       "      <th>gene_mut.CRISPR.5</th>\n",
       "      <th>gene_mut.CRISPR.6</th>\n",
       "      <th>gene_mut.CRISPR.7</th>\n",
       "      <th>gene_mut.CRISPR.8</th>\n",
       "      <th>gene_mut.CRISPR.9</th>\n",
       "      <th>gene_mut.CRISPR.10</th>\n",
       "      <th>gene_mut.CRISPR.11</th>\n",
       "      <th>gene_mut.CRISPR.12</th>\n",
       "      <th>gene_mut.CRISPR.13</th>\n",
       "      <th>oncogene</th>\n",
       "    </tr>\n",
       "  </thead>\n",
       "  <tbody>\n",
       "    <tr>\n",
       "      <th>0</th>\n",
       "      <td>A1BG</td>\n",
       "      <td>-7.165493</td>\n",
       "      <td>-7.165493</td>\n",
       "      <td>-7.165493</td>\n",
       "      <td>-7.165493</td>\n",
       "      <td>-7.165493</td>\n",
       "      <td>-7.165493</td>\n",
       "      <td>-7.165493</td>\n",
       "      <td>-7.165493</td>\n",
       "      <td>-7.118440</td>\n",
       "      <td>...</td>\n",
       "      <td>-3.201021</td>\n",
       "      <td>-5.819234</td>\n",
       "      <td>-6.671945</td>\n",
       "      <td>-6.628317</td>\n",
       "      <td>-5.493931</td>\n",
       "      <td>-4.052666</td>\n",
       "      <td>-4.288081</td>\n",
       "      <td>-5.905126</td>\n",
       "      <td>-6.654196</td>\n",
       "      <td>False</td>\n",
       "    </tr>\n",
       "    <tr>\n",
       "      <th>1</th>\n",
       "      <td>A1CF</td>\n",
       "      <td>-7.165493</td>\n",
       "      <td>-7.165493</td>\n",
       "      <td>-7.165493</td>\n",
       "      <td>-7.165493</td>\n",
       "      <td>-7.165493</td>\n",
       "      <td>-7.165493</td>\n",
       "      <td>-7.165493</td>\n",
       "      <td>-7.165493</td>\n",
       "      <td>-7.165493</td>\n",
       "      <td>...</td>\n",
       "      <td>-3.589475</td>\n",
       "      <td>-6.307292</td>\n",
       "      <td>-6.671578</td>\n",
       "      <td>-6.539213</td>\n",
       "      <td>-4.854680</td>\n",
       "      <td>-3.489741</td>\n",
       "      <td>-3.998311</td>\n",
       "      <td>-5.907700</td>\n",
       "      <td>-6.655811</td>\n",
       "      <td>False</td>\n",
       "    </tr>\n",
       "    <tr>\n",
       "      <th>2</th>\n",
       "      <td>A2M</td>\n",
       "      <td>-7.165493</td>\n",
       "      <td>-7.165493</td>\n",
       "      <td>-7.165493</td>\n",
       "      <td>-7.165493</td>\n",
       "      <td>-7.165493</td>\n",
       "      <td>-7.165493</td>\n",
       "      <td>-7.165493</td>\n",
       "      <td>-7.165493</td>\n",
       "      <td>-7.165493</td>\n",
       "      <td>...</td>\n",
       "      <td>-4.878248</td>\n",
       "      <td>-6.515009</td>\n",
       "      <td>-6.656328</td>\n",
       "      <td>-5.852582</td>\n",
       "      <td>-3.893201</td>\n",
       "      <td>-3.336245</td>\n",
       "      <td>-4.560143</td>\n",
       "      <td>-6.400044</td>\n",
       "      <td>-6.670077</td>\n",
       "      <td>False</td>\n",
       "    </tr>\n",
       "    <tr>\n",
       "      <th>3</th>\n",
       "      <td>A2ML1</td>\n",
       "      <td>-7.165493</td>\n",
       "      <td>-7.165493</td>\n",
       "      <td>-7.165493</td>\n",
       "      <td>-7.165493</td>\n",
       "      <td>-7.165493</td>\n",
       "      <td>-7.165493</td>\n",
       "      <td>-7.165493</td>\n",
       "      <td>-7.165493</td>\n",
       "      <td>-7.165493</td>\n",
       "      <td>...</td>\n",
       "      <td>-2.641586</td>\n",
       "      <td>-5.327741</td>\n",
       "      <td>-6.671650</td>\n",
       "      <td>-6.560098</td>\n",
       "      <td>-4.958254</td>\n",
       "      <td>-3.241637</td>\n",
       "      <td>-3.136396</td>\n",
       "      <td>-4.856608</td>\n",
       "      <td>-6.578655</td>\n",
       "      <td>False</td>\n",
       "    </tr>\n",
       "    <tr>\n",
       "      <th>4</th>\n",
       "      <td>A4GALT</td>\n",
       "      <td>-7.165493</td>\n",
       "      <td>-7.165493</td>\n",
       "      <td>-7.165493</td>\n",
       "      <td>-7.165493</td>\n",
       "      <td>-7.165493</td>\n",
       "      <td>-7.165493</td>\n",
       "      <td>-7.165493</td>\n",
       "      <td>-7.165493</td>\n",
       "      <td>-7.165493</td>\n",
       "      <td>...</td>\n",
       "      <td>-4.604324</td>\n",
       "      <td>-6.400253</td>\n",
       "      <td>-6.669687</td>\n",
       "      <td>-6.446942</td>\n",
       "      <td>-5.251609</td>\n",
       "      <td>-4.752306</td>\n",
       "      <td>-5.667741</td>\n",
       "      <td>-6.603665</td>\n",
       "      <td>-6.671719</td>\n",
       "      <td>False</td>\n",
       "    </tr>\n",
       "    <tr>\n",
       "      <th>...</th>\n",
       "      <td>...</td>\n",
       "      <td>...</td>\n",
       "      <td>...</td>\n",
       "      <td>...</td>\n",
       "      <td>...</td>\n",
       "      <td>...</td>\n",
       "      <td>...</td>\n",
       "      <td>...</td>\n",
       "      <td>...</td>\n",
       "      <td>...</td>\n",
       "      <td>...</td>\n",
       "      <td>...</td>\n",
       "      <td>...</td>\n",
       "      <td>...</td>\n",
       "      <td>...</td>\n",
       "      <td>...</td>\n",
       "      <td>...</td>\n",
       "      <td>...</td>\n",
       "      <td>...</td>\n",
       "      <td>...</td>\n",
       "      <td>...</td>\n",
       "    </tr>\n",
       "    <tr>\n",
       "      <th>15300</th>\n",
       "      <td>ZXDC</td>\n",
       "      <td>-7.165493</td>\n",
       "      <td>-7.165493</td>\n",
       "      <td>-7.165493</td>\n",
       "      <td>-7.165493</td>\n",
       "      <td>-7.165493</td>\n",
       "      <td>-7.165493</td>\n",
       "      <td>-7.165493</td>\n",
       "      <td>-7.165493</td>\n",
       "      <td>-7.066659</td>\n",
       "      <td>...</td>\n",
       "      <td>-3.150751</td>\n",
       "      <td>-5.776114</td>\n",
       "      <td>-6.669076</td>\n",
       "      <td>-6.429197</td>\n",
       "      <td>-5.029861</td>\n",
       "      <td>-3.883235</td>\n",
       "      <td>-4.134244</td>\n",
       "      <td>-5.694593</td>\n",
       "      <td>-6.636581</td>\n",
       "      <td>False</td>\n",
       "    </tr>\n",
       "    <tr>\n",
       "      <th>15301</th>\n",
       "      <td>ZYG11A</td>\n",
       "      <td>-7.165493</td>\n",
       "      <td>-7.165493</td>\n",
       "      <td>-7.165493</td>\n",
       "      <td>-7.165493</td>\n",
       "      <td>-7.165493</td>\n",
       "      <td>-7.165493</td>\n",
       "      <td>-7.165493</td>\n",
       "      <td>-7.165493</td>\n",
       "      <td>-7.165493</td>\n",
       "      <td>...</td>\n",
       "      <td>-3.529519</td>\n",
       "      <td>-5.938482</td>\n",
       "      <td>-6.671310</td>\n",
       "      <td>-6.519521</td>\n",
       "      <td>-4.977586</td>\n",
       "      <td>-3.725286</td>\n",
       "      <td>-4.098734</td>\n",
       "      <td>-5.851332</td>\n",
       "      <td>-6.654371</td>\n",
       "      <td>False</td>\n",
       "    </tr>\n",
       "    <tr>\n",
       "      <th>15302</th>\n",
       "      <td>ZYX</td>\n",
       "      <td>-7.165493</td>\n",
       "      <td>-7.165493</td>\n",
       "      <td>-3.509135</td>\n",
       "      <td>-4.439900</td>\n",
       "      <td>-7.165493</td>\n",
       "      <td>-7.165493</td>\n",
       "      <td>-7.165493</td>\n",
       "      <td>-7.165493</td>\n",
       "      <td>-6.982534</td>\n",
       "      <td>...</td>\n",
       "      <td>-2.955374</td>\n",
       "      <td>-6.064832</td>\n",
       "      <td>-6.671853</td>\n",
       "      <td>-6.621805</td>\n",
       "      <td>-5.573597</td>\n",
       "      <td>-4.126896</td>\n",
       "      <td>-4.272159</td>\n",
       "      <td>-5.884935</td>\n",
       "      <td>-6.654416</td>\n",
       "      <td>False</td>\n",
       "    </tr>\n",
       "    <tr>\n",
       "      <th>15303</th>\n",
       "      <td>ZZEF1</td>\n",
       "      <td>-7.165493</td>\n",
       "      <td>-7.165493</td>\n",
       "      <td>-7.165493</td>\n",
       "      <td>-7.165493</td>\n",
       "      <td>-7.165493</td>\n",
       "      <td>-7.165493</td>\n",
       "      <td>-7.165493</td>\n",
       "      <td>-7.165493</td>\n",
       "      <td>-7.165456</td>\n",
       "      <td>...</td>\n",
       "      <td>-5.367652</td>\n",
       "      <td>-6.269565</td>\n",
       "      <td>-6.267631</td>\n",
       "      <td>-4.554152</td>\n",
       "      <td>-3.125132</td>\n",
       "      <td>-3.140908</td>\n",
       "      <td>-4.841502</td>\n",
       "      <td>-6.508759</td>\n",
       "      <td>-6.670974</td>\n",
       "      <td>False</td>\n",
       "    </tr>\n",
       "    <tr>\n",
       "      <th>15304</th>\n",
       "      <td>ZZZ3</td>\n",
       "      <td>-7.165493</td>\n",
       "      <td>-7.165493</td>\n",
       "      <td>-7.165493</td>\n",
       "      <td>-7.165493</td>\n",
       "      <td>-7.165493</td>\n",
       "      <td>-7.165493</td>\n",
       "      <td>-7.165493</td>\n",
       "      <td>-7.165493</td>\n",
       "      <td>-7.164901</td>\n",
       "      <td>...</td>\n",
       "      <td>-6.291829</td>\n",
       "      <td>-6.661487</td>\n",
       "      <td>-6.131193</td>\n",
       "      <td>-4.641532</td>\n",
       "      <td>-3.998670</td>\n",
       "      <td>-4.695825</td>\n",
       "      <td>-6.302556</td>\n",
       "      <td>-6.668319</td>\n",
       "      <td>-6.672030</td>\n",
       "      <td>False</td>\n",
       "    </tr>\n",
       "  </tbody>\n",
       "</table>\n",
       "<p>15305 rows × 352 columns</p>\n",
       "</div>"
      ],
      "text/plain": [
       "      gene name  gene_exp.copy_num.0  gene_exp.copy_num.1  \\\n",
       "0          A1BG            -7.165493            -7.165493   \n",
       "1          A1CF            -7.165493            -7.165493   \n",
       "2           A2M            -7.165493            -7.165493   \n",
       "3         A2ML1            -7.165493            -7.165493   \n",
       "4        A4GALT            -7.165493            -7.165493   \n",
       "...         ...                  ...                  ...   \n",
       "15300      ZXDC            -7.165493            -7.165493   \n",
       "15301    ZYG11A            -7.165493            -7.165493   \n",
       "15302       ZYX            -7.165493            -7.165493   \n",
       "15303     ZZEF1            -7.165493            -7.165493   \n",
       "15304      ZZZ3            -7.165493            -7.165493   \n",
       "\n",
       "       gene_exp.copy_num.2  gene_exp.copy_num.3  gene_exp.copy_num.4  \\\n",
       "0                -7.165493            -7.165493            -7.165493   \n",
       "1                -7.165493            -7.165493            -7.165493   \n",
       "2                -7.165493            -7.165493            -7.165493   \n",
       "3                -7.165493            -7.165493            -7.165493   \n",
       "4                -7.165493            -7.165493            -7.165493   \n",
       "...                    ...                  ...                  ...   \n",
       "15300            -7.165493            -7.165493            -7.165493   \n",
       "15301            -7.165493            -7.165493            -7.165493   \n",
       "15302            -3.509135            -4.439900            -7.165493   \n",
       "15303            -7.165493            -7.165493            -7.165493   \n",
       "15304            -7.165493            -7.165493            -7.165493   \n",
       "\n",
       "       gene_exp.copy_num.5  gene_exp.copy_num.6  gene_exp.copy_num.7  \\\n",
       "0                -7.165493            -7.165493            -7.165493   \n",
       "1                -7.165493            -7.165493            -7.165493   \n",
       "2                -7.165493            -7.165493            -7.165493   \n",
       "3                -7.165493            -7.165493            -7.165493   \n",
       "4                -7.165493            -7.165493            -7.165493   \n",
       "...                    ...                  ...                  ...   \n",
       "15300            -7.165493            -7.165493            -7.165493   \n",
       "15301            -7.165493            -7.165493            -7.165493   \n",
       "15302            -7.165493            -7.165493            -7.165493   \n",
       "15303            -7.165493            -7.165493            -7.165493   \n",
       "15304            -7.165493            -7.165493            -7.165493   \n",
       "\n",
       "       gene_exp.copy_num.8  ...  gene_mut.CRISPR.5  gene_mut.CRISPR.6  \\\n",
       "0                -7.118440  ...          -3.201021          -5.819234   \n",
       "1                -7.165493  ...          -3.589475          -6.307292   \n",
       "2                -7.165493  ...          -4.878248          -6.515009   \n",
       "3                -7.165493  ...          -2.641586          -5.327741   \n",
       "4                -7.165493  ...          -4.604324          -6.400253   \n",
       "...                    ...  ...                ...                ...   \n",
       "15300            -7.066659  ...          -3.150751          -5.776114   \n",
       "15301            -7.165493  ...          -3.529519          -5.938482   \n",
       "15302            -6.982534  ...          -2.955374          -6.064832   \n",
       "15303            -7.165456  ...          -5.367652          -6.269565   \n",
       "15304            -7.164901  ...          -6.291829          -6.661487   \n",
       "\n",
       "       gene_mut.CRISPR.7  gene_mut.CRISPR.8  gene_mut.CRISPR.9  \\\n",
       "0              -6.671945          -6.628317          -5.493931   \n",
       "1              -6.671578          -6.539213          -4.854680   \n",
       "2              -6.656328          -5.852582          -3.893201   \n",
       "3              -6.671650          -6.560098          -4.958254   \n",
       "4              -6.669687          -6.446942          -5.251609   \n",
       "...                  ...                ...                ...   \n",
       "15300          -6.669076          -6.429197          -5.029861   \n",
       "15301          -6.671310          -6.519521          -4.977586   \n",
       "15302          -6.671853          -6.621805          -5.573597   \n",
       "15303          -6.267631          -4.554152          -3.125132   \n",
       "15304          -6.131193          -4.641532          -3.998670   \n",
       "\n",
       "       gene_mut.CRISPR.10  gene_mut.CRISPR.11  gene_mut.CRISPR.12  \\\n",
       "0               -4.052666           -4.288081           -5.905126   \n",
       "1               -3.489741           -3.998311           -5.907700   \n",
       "2               -3.336245           -4.560143           -6.400044   \n",
       "3               -3.241637           -3.136396           -4.856608   \n",
       "4               -4.752306           -5.667741           -6.603665   \n",
       "...                   ...                 ...                 ...   \n",
       "15300           -3.883235           -4.134244           -5.694593   \n",
       "15301           -3.725286           -4.098734           -5.851332   \n",
       "15302           -4.126896           -4.272159           -5.884935   \n",
       "15303           -3.140908           -4.841502           -6.508759   \n",
       "15304           -4.695825           -6.302556           -6.668319   \n",
       "\n",
       "       gene_mut.CRISPR.13  oncogene  \n",
       "0               -6.654196     False  \n",
       "1               -6.655811     False  \n",
       "2               -6.670077     False  \n",
       "3               -6.578655     False  \n",
       "4               -6.671719     False  \n",
       "...                   ...       ...  \n",
       "15300           -6.636581     False  \n",
       "15301           -6.654371     False  \n",
       "15302           -6.654416     False  \n",
       "15303           -6.670974     False  \n",
       "15304           -6.672030     False  \n",
       "\n",
       "[15305 rows x 352 columns]"
      ]
     },
     "execution_count": 5,
     "metadata": {},
     "output_type": "execute_result"
    }
   ],
   "source": [
    "input_data = data.copy()\n",
    "input_data['oncogene'] = np.isin(data.iloc[:,0], oncogenes)\n",
    "positive = input_data.iloc[list(compress(range(len(input_data)), input_data.iloc[:,-1]))].reset_index(drop=True)\n",
    "negative = input_data.drop(list(compress(range(len(input_data)), input_data.iloc[:,-1]))).reset_index(drop=True)\n",
    "input_data"
   ]
  },
  {
   "cell_type": "raw",
   "id": "045afd53",
   "metadata": {},
   "source": [
    "positive.to_csv(r\"C:\\Users\\justi\\Downloads\\positive.csv\",index = False)\n",
    "negative.to_csv(r\"C:\\Users\\justi\\Downloads\\negative.csv\",index = False)"
   ]
  },
  {
   "cell_type": "code",
   "execution_count": 162,
   "id": "2b5160f8",
   "metadata": {
    "scrolled": false
   },
   "outputs": [],
   "source": [
    "def train(positive, negative, trials, isks, num_left=None):\n",
    "    section = len(positive)/trials\n",
    "    out = []\n",
    "    \n",
    "    for i in range(trials):\n",
    "        df = pd.concat([positive.drop(range(round(i*section), round((i+1)*section))), \n",
    "                   negative.sample(n=(len(positive)-round(section)))])\n",
    "\n",
    "        # Split the dataset into features (X) and target variable (y)\n",
    "        X = df.drop(['oncogene', 'gene name'], axis=1)\n",
    "        y = df['oncogene']\n",
    "        \n",
    "        if isks:\n",
    "            if num_left is None:\n",
    "                num_left = len(df)\n",
    "                \n",
    "            p_val = [-1]\n",
    "            for j in range(1, len(df.columns)):\n",
    "                _, p_value = stats.kstest(df.iloc[:,j], stats.norm.cdf)\n",
    "                p_val.append(p_value)\n",
    "                \n",
    "            num = len(p_val)-num_left\n",
    "            drop_ind = np.argpartition(p_val, -(num))[-(num):]\n",
    "            df.drop(df.columns[drop_ind], axis=1, inplace=True)\n",
    "            \n",
    "        # SVM classifier\n",
    "        out.append(SVR().fit(X, y))\n",
    "    \n",
    "    return out"
   ]
  },
  {
   "cell_type": "code",
   "execution_count": 172,
   "id": "0df8195c",
   "metadata": {
    "scrolled": true
   },
   "outputs": [
    {
     "data": {
      "text/plain": [
       "[SVR(), SVR(), SVR(), SVR(), SVR(), SVR(), SVR(), SVR(), SVR(), SVR()]"
      ]
     },
     "execution_count": 172,
     "metadata": {},
     "output_type": "execute_result"
    }
   ],
   "source": [
    "result = train(positive, negative, 10, True)\n",
    "result"
   ]
  },
  {
   "cell_type": "code",
   "execution_count": 173,
   "id": "bb6044fb",
   "metadata": {
    "scrolled": true
   },
   "outputs": [],
   "source": [
    "def test(name):\n",
    "    return [test.predict(data[data.iloc[:, 0] == name].iloc[:, 1:]) for test in result]"
   ]
  },
  {
   "cell_type": "code",
   "execution_count": 175,
   "id": "b775f672",
   "metadata": {
    "scrolled": true
   },
   "outputs": [
    {
     "data": {
      "text/plain": [
       "[array([0.85101138]),\n",
       " array([0.79367482]),\n",
       " array([1.09661505]),\n",
       " array([0.95345836]),\n",
       " array([0.83633524]),\n",
       " array([0.92249285]),\n",
       " array([0.89648129]),\n",
       " array([0.6535414]),\n",
       " array([0.95314349]),\n",
       " array([0.99688155])]"
      ]
     },
     "execution_count": 175,
     "metadata": {},
     "output_type": "execute_result"
    }
   ],
   "source": [
    "test('TP53')"
   ]
  },
  {
   "cell_type": "code",
   "execution_count": 179,
   "id": "970fe432",
   "metadata": {
    "scrolled": true
   },
   "outputs": [],
   "source": [
    "def train_test(positive, negative, is_ks, num_left=None):\n",
    "    out = []\n",
    "    for i in range(len(positive)):\n",
    "        values = random.sample(range(len(negative)), k=len(positive)-1)\n",
    "        df = pd.concat([positive.drop([i]), \n",
    "                   negative.iloc[values]])\n",
    "\n",
    "        # Split the dataset into features (X) and target variable (y)\n",
    "        X = df.drop(['oncogene', 'gene name'], axis=1)\n",
    "        y = df['oncogene']\n",
    "        \n",
    "        if is_ks:\n",
    "            if num_left is None:\n",
    "                num_left = len(df)\n",
    "                \n",
    "            p_val = [-1]\n",
    "            for j in range(1, len(df.columns)):\n",
    "                _, p_value = stats.kstest(df.iloc[:,j], stats.norm.cdf)\n",
    "                p_val.append(p_value)\n",
    "                \n",
    "            num = len(p_val)-num_left\n",
    "            drop_ind = np.argpartition(p_val, -(num))[-(num):]\n",
    "            df.drop(df.columns[drop_ind], axis=1, inplace=True)\n",
    "            \n",
    "        # Create an SVM classifier\n",
    "        predict = SVR().fit(X, y)\n",
    "        arr = []\n",
    "        neg_test = negative.drop(values)\n",
    "        \n",
    "        for j in range(len(neg_test)):\n",
    "            x = predict.predict([neg_test.iloc[j,1:-1]])[0]\n",
    "            arr.append(x)\n",
    "        \n",
    "        arr.sort()\n",
    "        pos_result = predict.predict([positive.iloc[i,1:-1]])[0]\n",
    "        \n",
    "        out.append(len(arr)-bisect(arr, pos_result))\n",
    "            \n",
    "    return out"
   ]
  },
  {
   "cell_type": "code",
   "execution_count": 184,
   "id": "7e05d90d",
   "metadata": {
    "collapsed": true
   },
   "outputs": [
    {
     "data": {
      "text/plain": [
       "[2648,\n",
       " 4562,\n",
       " 576,\n",
       " 7789,\n",
       " 359,\n",
       " 542,\n",
       " 803,\n",
       " 9601,\n",
       " 60,\n",
       " 5634,\n",
       " 63,\n",
       " 5198,\n",
       " 10887,\n",
       " 2,\n",
       " 3,\n",
       " 745,\n",
       " 4101,\n",
       " 9218,\n",
       " 206,\n",
       " 5145,\n",
       " 4329,\n",
       " 10476,\n",
       " 4384,\n",
       " 2656,\n",
       " 8133,\n",
       " 7109,\n",
       " 5373,\n",
       " 749,\n",
       " 11952,\n",
       " 426,\n",
       " 6644,\n",
       " 1988,\n",
       " 1896,\n",
       " 404,\n",
       " 6,\n",
       " 2821,\n",
       " 2118,\n",
       " 30,\n",
       " 250,\n",
       " 212,\n",
       " 1132,\n",
       " 13044,\n",
       " 1360,\n",
       " 2590,\n",
       " 108,\n",
       " 2860,\n",
       " 7036,\n",
       " 1725,\n",
       " 631,\n",
       " 417,\n",
       " 3,\n",
       " 80,\n",
       " 2014,\n",
       " 1101,\n",
       " 9128,\n",
       " 7290,\n",
       " 758,\n",
       " 1244,\n",
       " 7258,\n",
       " 6066,\n",
       " 888,\n",
       " 9306]"
      ]
     },
     "execution_count": 184,
     "metadata": {},
     "output_type": "execute_result"
    }
   ],
   "source": [
    "warnings.filterwarnings('ignore')\n",
    "test_result = train_test(positive, negative, True)\n",
    "warnings.filterwarnings('default')\n",
    "test_result"
   ]
  },
  {
   "cell_type": "code",
   "execution_count": 185,
   "id": "7daeff9f",
   "metadata": {
    "scrolled": true
   },
   "outputs": [],
   "source": [
    "pd.concat([pd.Series(positive.iloc[:,0].values), pd.Series(test_result)], axis=1).to_csv(r\"C:\\Users\\justi\\Coding\\Project\\Han Xu\\oncogene_ranking.csv\",index = False)"
   ]
  },
  {
   "cell_type": "code",
   "execution_count": 186,
   "id": "d3779a47",
   "metadata": {
    "scrolled": false
   },
   "outputs": [
    {
     "data": {
      "image/png": "[encoded data removed]",
      "text/plain": [
       "<Figure size 640x480 with 1 Axes>"
      ]
     },
     "metadata": {},
     "output_type": "display_data"
    }
   ],
   "source": [
    "values, base = np.histogram(test_result, bins=100)\n",
    "cumulative = np.cumsum(values)\n",
    "plt.title('area = ' + str(np.trapz(cumulative/cumulative[-1], dx=1/len(cumulative))))\n",
    "plt.plot(base[:-1], cumulative, c='blue')\n",
    "plt.show()\n",
    "area = np.trapz(cumulative/62, dx=1/len(cumulative))"
   ]
  },
  {
   "cell_type": "code",
   "execution_count": 187,
   "id": "5679d88c",
   "metadata": {},
   "outputs": [],
   "source": [
    "from sklearn.inspection import permutation_importance"
   ]
  },
  {
   "cell_type": "code",
   "execution_count": 190,
   "id": "5f00368b",
   "metadata": {},
   "outputs": [],
   "source": [
    "def importance_test(positive, negative, trials, isks, num_left=None):\n",
    "    section = len(positive)/trials\n",
    "    out = []\n",
    "    \n",
    "    for i in range(trials):\n",
    "        df = pd.concat([positive.drop(range(round(i*section), round((i+1)*section))), \n",
    "                   negative.sample(n=(len(positive)-round(section)))])\n",
    "\n",
    "        # Split the dataset into features (X) and target variable (y)\n",
    "        X = df.drop(['oncogene', 'gene name'], axis=1)\n",
    "        y = df['oncogene']\n",
    "        \n",
    "        if isks:\n",
    "            if num_left is None:\n",
    "                num_left = len(df)\n",
    "                \n",
    "            p_val = [-1]\n",
    "            for j in range(1, len(df.columns)):\n",
    "                _, p_value = stats.kstest(df.iloc[:,j], stats.norm.cdf)\n",
    "                p_val.append(p_value)\n",
    "                \n",
    "            num = len(p_val)-num_left\n",
    "            drop_ind = np.argpartition(p_val, -(num))[-(num):]\n",
    "            df.drop(df.columns[drop_ind], axis=1, inplace=True)\n",
    "            \n",
    "        # Create an SVM classifier\n",
    "        model = SVR().fit(X, y)\n",
    "        results = permutation_importance(model, X, y, n_repeats=10)\n",
    "        # get importance\n",
    "        importance = results.importances_mean\n",
    "        # plot feature importance\n",
    "        plt.bar([x for x in range(len(importance))], importance)\n",
    "        plt.show()\n",
    "        out.append(model)\n",
    "    \n",
    "    return out"
   ]
  },
  {
   "cell_type": "code",
   "execution_count": 191,
   "id": "3cfeaed2",
   "metadata": {
    "scrolled": false
   },
   "outputs": [
    {
     "data": {
      "image/png": "[encoded data removed]",
      "text/plain": [
       "<Figure size 640x480 with 1 Axes>"
      ]
     },
     "metadata": {},
     "output_type": "display_data"
    },
    {
     "data": {
      "image/png": "[encoded data removed]",
      "text/plain": [
       "<Figure size 640x480 with 1 Axes>"
      ]
     },
     "metadata": {},
     "output_type": "display_data"
    },
    {
     "data": {
      "image/png": "[encoded data removed]",
      "text/plain": [
       "<Figure size 640x480 with 1 Axes>"
      ]
     },
     "metadata": {},
     "output_type": "display_data"
    },
    {
     "data": {
      "image/png": "[encoded data removed]",
      "text/plain": [
       "<Figure size 640x480 with 1 Axes>"
      ]
     },
     "metadata": {},
     "output_type": "display_data"
    },
    {
     "data": {
      "image/png": "[encoded data removed]",
      "text/plain": [
       "<Figure size 640x480 with 1 Axes>"
      ]
     },
     "metadata": {},
     "output_type": "display_data"
    },
    {
     "data": {
      "image/png": "[encoded data removed]",
      "text/plain": [
       "<Figure size 640x480 with 1 Axes>"
      ]
     },
     "metadata": {},
     "output_type": "display_data"
    },
    {
     "data": {
      "text/plain": [
       "[SVR(), SVR(), SVR(), SVR(), SVR(), SVR()]"
      ]
     },
     "execution_count": 191,
     "metadata": {},
     "output_type": "execute_result"
    }
   ],
   "source": [
    "importance_test(positive, negative, 6, True)"
   ]
  },
  {
   "cell_type": "code",
   "execution_count": 154,
   "id": "9a34648d",
   "metadata": {
    "scrolled": false
   },
   "outputs": [
    {
     "data": {
      "text/html": [
       "<div>\n",
       "<style scoped>\n",
       "    .dataframe tbody tr th:only-of-type {\n",
       "        vertical-align: middle;\n",
       "    }\n",
       "\n",
       "    .dataframe tbody tr th {\n",
       "        vertical-align: top;\n",
       "    }\n",
       "\n",
       "    .dataframe thead th {\n",
       "        text-align: right;\n",
       "    }\n",
       "</style>\n",
       "<table border=\"1\" class=\"dataframe\">\n",
       "  <thead>\n",
       "    <tr style=\"text-align: right;\">\n",
       "      <th></th>\n",
       "      <th>feature 0</th>\n",
       "      <th>feature 1</th>\n",
       "      <th>feature 2</th>\n",
       "      <th>Result</th>\n",
       "    </tr>\n",
       "  </thead>\n",
       "  <tbody>\n",
       "    <tr>\n",
       "      <th>0</th>\n",
       "      <td>-0.005394</td>\n",
       "      <td>0.642843</td>\n",
       "      <td>0.747610</td>\n",
       "      <td>0.637449</td>\n",
       "    </tr>\n",
       "    <tr>\n",
       "      <th>1</th>\n",
       "      <td>0.815514</td>\n",
       "      <td>-0.572401</td>\n",
       "      <td>0.640938</td>\n",
       "      <td>0.243113</td>\n",
       "    </tr>\n",
       "    <tr>\n",
       "      <th>2</th>\n",
       "      <td>0.344519</td>\n",
       "      <td>0.140312</td>\n",
       "      <td>-0.866948</td>\n",
       "      <td>0.484831</td>\n",
       "    </tr>\n",
       "    <tr>\n",
       "      <th>3</th>\n",
       "      <td>-0.434726</td>\n",
       "      <td>-0.770942</td>\n",
       "      <td>-0.178466</td>\n",
       "      <td>-1.205668</td>\n",
       "    </tr>\n",
       "    <tr>\n",
       "      <th>4</th>\n",
       "      <td>-0.434799</td>\n",
       "      <td>-0.391312</td>\n",
       "      <td>-1.005049</td>\n",
       "      <td>-0.826111</td>\n",
       "    </tr>\n",
       "    <tr>\n",
       "      <th>...</th>\n",
       "      <td>...</td>\n",
       "      <td>...</td>\n",
       "      <td>...</td>\n",
       "      <td>...</td>\n",
       "    </tr>\n",
       "    <tr>\n",
       "      <th>95</th>\n",
       "      <td>-1.796171</td>\n",
       "      <td>0.765324</td>\n",
       "      <td>-0.589331</td>\n",
       "      <td>-1.030846</td>\n",
       "    </tr>\n",
       "    <tr>\n",
       "      <th>96</th>\n",
       "      <td>-0.906008</td>\n",
       "      <td>-2.226683</td>\n",
       "      <td>0.236023</td>\n",
       "      <td>-3.132691</td>\n",
       "    </tr>\n",
       "    <tr>\n",
       "      <th>97</th>\n",
       "      <td>-1.491952</td>\n",
       "      <td>-1.468599</td>\n",
       "      <td>0.349194</td>\n",
       "      <td>-2.960551</td>\n",
       "    </tr>\n",
       "    <tr>\n",
       "      <th>98</th>\n",
       "      <td>-0.359808</td>\n",
       "      <td>-0.912014</td>\n",
       "      <td>-0.259104</td>\n",
       "      <td>-1.271822</td>\n",
       "    </tr>\n",
       "    <tr>\n",
       "      <th>99</th>\n",
       "      <td>-1.625640</td>\n",
       "      <td>-0.732453</td>\n",
       "      <td>0.389647</td>\n",
       "      <td>-2.358093</td>\n",
       "    </tr>\n",
       "  </tbody>\n",
       "</table>\n",
       "<p>100 rows × 4 columns</p>\n",
       "</div>"
      ],
      "text/plain": [
       "    feature 0  feature 1  feature 2    Result\n",
       "0   -0.005394   0.642843   0.747610  0.637449\n",
       "1    0.815514  -0.572401   0.640938  0.243113\n",
       "2    0.344519   0.140312  -0.866948  0.484831\n",
       "3   -0.434726  -0.770942  -0.178466 -1.205668\n",
       "4   -0.434799  -0.391312  -1.005049 -0.826111\n",
       "..        ...        ...        ...       ...\n",
       "95  -1.796171   0.765324  -0.589331 -1.030846\n",
       "96  -0.906008  -2.226683   0.236023 -3.132691\n",
       "97  -1.491952  -1.468599   0.349194 -2.960551\n",
       "98  -0.359808  -0.912014  -0.259104 -1.271822\n",
       "99  -1.625640  -0.732453   0.389647 -2.358093\n",
       "\n",
       "[100 rows x 4 columns]"
      ]
     },
     "execution_count": 154,
     "metadata": {},
     "output_type": "execute_result"
    }
   ],
   "source": [
    "temp = pd.DataFrame()\n",
    "for i in range(3):\n",
    "    temp = pd.concat([temp, pd.DataFrame({'feature ' + str(i):np.random.normal(size=100)})], axis=1)\n",
    "temp = pd.concat([temp, pd.DataFrame({'Result':temp.iloc[:,0]+temp.iloc[:,1]})], axis=1)\n",
    "temp"
   ]
  },
  {
   "cell_type": "code",
   "execution_count": 161,
   "id": "80719911",
   "metadata": {},
   "outputs": [
    {
     "name": "stderr",
     "output_type": "stream",
     "text": [
      "C:\\Users\\justi\\AppData\\Roaming\\Python\\Python311\\site-packages\\sklearn\\base.py:465: UserWarning: X does not have valid feature names, but SVR was fitted with feature names\n",
      "  warnings.warn(\n"
     ]
    },
    {
     "data": {
      "text/plain": [
       "array([2.08121613])"
      ]
     },
     "execution_count": 161,
     "metadata": {},
     "output_type": "execute_result"
    }
   ],
   "source": [
    "model.predict([[1,1,0]])"
   ]
  },
  {
   "cell_type": "code",
   "execution_count": 155,
   "id": "9500ddc4",
   "metadata": {
    "scrolled": false
   },
   "outputs": [
    {
     "data": {
      "image/png": "[encoded data removed]",
      "text/plain": [
       "<Figure size 640x480 with 1 Axes>"
      ]
     },
     "metadata": {},
     "output_type": "display_data"
    }
   ],
   "source": [
    "X = temp.drop(['Result'], axis=1)\n",
    "y = temp['Result']\n",
    "\n",
    "model = SVR().fit(X, y)\n",
    "results = permutation_importance(model, X, y, n_repeats=20)\n",
    "# get importance\n",
    "importance = results.importances_mean\n",
    "# plot feature importance\n",
    "plt.bar([x for x in range(len(importance))], importance)\n",
    "plt.show()"
   ]
  }
 ],
 "metadata": {
  "kernelspec": {
   "display_name": "Python 3 (ipykernel)",
   "language": "python",
   "name": "python3"
  },
  "language_info": {
   "codemirror_mode": {
    "name": "ipython",
    "version": 3
   },
   "file_extension": ".py",
   "mimetype": "text/x-python",
   "name": "python",
   "nbconvert_exporter": "python",
   "pygments_lexer": "ipython3",
   "version": "3.11.2"
  }
 },
 "nbformat": 4,
 "nbformat_minor": 5
}
