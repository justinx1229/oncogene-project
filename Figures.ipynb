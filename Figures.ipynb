{
 "cells": [
  {
   "cell_type": "code",
   "execution_count": 2,
   "id": "1bef11cc",
   "metadata": {
    "scrolled": true
   },
   "outputs": [],
   "source": [
    "import math\n",
    "import numpy as np\n",
    "import pandas as pd\n",
    "import matplotlib.pyplot as plt\n",
    "import time\n",
    "from bisect import bisect_left\n",
    "from scipy import stats\n",
    "import warnings"
   ]
  },
  {
   "cell_type": "code",
   "execution_count": 4,
   "id": "503e284a-d972-4bfe-8a4c-e56f3e44f947",
   "metadata": {},
   "outputs": [],
   "source": [
    "# trim 2 dataframes to match\n",
    "def trim(dataframe_1, dataframe_2):\n",
    "    def process(df):\n",
    "        df.sort_index(inplace=True)\n",
    "        temp = df.iloc[:,0].str.strip()\n",
    "        df.drop(columns=df.columns[0], inplace = True)\n",
    "        df.sort_index(axis=1, inplace=True)\n",
    "        df.insert(0,temp.name,temp)\n",
    "        return df\n",
    "    \n",
    "    df1 = process(dataframe_1.copy())\n",
    "    df2 = process(dataframe_2.copy())\n",
    "    \n",
    "    # match indexes\n",
    "    mask = df1.iloc[:, 0].isin(df2.iloc[:, 0])\n",
    "    df1 = df1[mask]\n",
    "    mask = df2.iloc[:, 0].isin(df1.iloc[:, 0])\n",
    "    df2 = df2[mask]\n",
    "    \n",
    "    mask = df1.columns.str.strip().isin(df2.columns.str.strip())\n",
    "    df1 = df1.loc[:, mask]\n",
    "    mask = df2.columns.str.strip().isin(df1.columns.str.strip())\n",
    "    df2 = df2.loc[:, mask]\n",
    "    \n",
    "    return df1, df2\n",
    "\n",
    "def mut_trim(mutation, dataframe):\n",
    "    df_out = dataframe.copy()\n",
    "    df_out.iloc[:,0] = dataframe.iloc[:,0].str.strip()\n",
    "    # initialize dataframe\n",
    "    df = pd.DataFrame(columns = np.append(df_out.columns.str.strip(), 'throwaway'))\n",
    "    df.iloc[:,0] = np.append(df_out.iloc[:,0], 'throwaway')\n",
    "    df.iloc[:,1:] = 0\n",
    "    \n",
    "    # add mutations\n",
    "    r = {key: i for i, key in enumerate(df.iloc[:, 0])}\n",
    "    c = {key: i for i, key in enumerate(df.columns)}\n",
    "    for i in range(len(mutation)): \n",
    "        df.iloc[r.get(mutation.iloc[i, 0], -1), c.get(mutation.iloc[i, -1], -1)] = 1\n",
    "    \n",
    "    return df.iloc[:-1, :-1], df_out"
   ]
  },
  {
   "cell_type": "code",
   "execution_count": 5,
   "id": "c29b7934-7842-4105-af14-557bc8180dc2",
   "metadata": {},
   "outputs": [],
   "source": [
    "# normalize dataframe to 0\n",
    "def normalize(matrix):\n",
    "    mat = np.copy(matrix)\n",
    "    mean = np.nanmean(matrix, axis=1)[:,np.newaxis]\n",
    "    return mat-mean"
   ]
  },
  {
   "cell_type": "code",
   "execution_count": 6,
   "id": "b2100ff8-d04c-4120-91d1-bc8aef6f8fc3",
   "metadata": {},
   "outputs": [],
   "source": [
    "def get_std(mat1, mat2):\n",
    "    return np.nanstd(mat1), np.nanstd(mat2);\n",
    "\n",
    "def avg_std(mat1, mat2):\n",
    "    return math.sqrt((np.nanvar(mat1)+np.nanvar(mat2))/2)"
   ]
  },
  {
   "cell_type": "code",
   "execution_count": 18,
   "id": "9f54ec47-2dcb-459e-80e2-0e79abf26d98",
   "metadata": {},
   "outputs": [],
   "source": [
    "# extracts a specific gene and creates density centers\n",
    "# cutoff must exist to have density centers\n",
    "def extract(df, name, cutoff=False, std=1, max=7, density_center=False, boxes=7):\n",
    "    values = df[df.iloc[:, 0] == name].iloc[:, 1:].to_numpy()[0]\n",
    "\n",
    "    if cutoff:\n",
    "        # set values greater than max in graph to be max or values less than min in graph to be min\n",
    "        # values[values > std*max] = std*max\n",
    "        # values[values < -std*max] = -std*max\n",
    "        pass\n",
    "    else:\n",
    "        return values\n",
    "\n",
    "    if density_center:\n",
    "        centers = np.linspace(-std*max, std*max, num=boxes*2, endpoint=False)[1::2]\n",
    "        return values, centers\n",
    "    else:\n",
    "        return values"
   ]
  },
  {
   "cell_type": "code",
   "execution_count": 8,
   "id": "d7151a92-8bdc-4eac-9749-862b72aa7fbc",
   "metadata": {},
   "outputs": [],
   "source": [
    "# extracts a specific gene and creates density centers for static_dfation data\n",
    "def drop_nan(x, y):\n",
    "    combined = np.array(np.concatenate(([x],[y]), axis=0))\n",
    "    # drop NaN\n",
    "    combined = combined[:, ~pd.isna(combined).any(axis=0)]\n",
    "\n",
    "    return combined[0], combined[1]"
   ]
  },
  {
   "cell_type": "code",
   "execution_count": 9,
   "id": "5488bccb-4b4d-4a4e-8fa2-3400c1a9f3ec",
   "metadata": {},
   "outputs": [],
   "source": [
    "# convert 2 vectors into a heatmap\n",
    "def densitymap(x, y, xDensityCenters, yDensityCenters, xdiscrete=False, ydiscrete=False, sigma=1):\n",
    "    if len(x) != len(y):\n",
    "        return \"inconsistent size of x and y vectors\"\n",
    "    \n",
    "    sigma_sq_inv = (1/sigma)**2\n",
    "    mat = np.zeros((len(yDensityCenters), len(xDensityCenters)))\n",
    "\n",
    "    if not xdiscrete and not ydiscrete:\n",
    "        for pt in range(len(x)):\n",
    "            temp = np.zeros((len(yDensityCenters), len(xDensityCenters)))\n",
    "            for i, center_x in enumerate(xDensityCenters):\n",
    "                for j, center_y in enumerate(yDensityCenters):\n",
    "                    dist_sq = (x[pt] - center_x)**2+(y[pt] - center_y)**2\n",
    "                    temp[j, i] = np.exp(-0.5*sigma_sq_inv*dist_sq)\n",
    "                    \n",
    "            temp /= np.sum(temp)\n",
    "            mat += temp\n",
    "            \n",
    "    elif xdiscrete and ydiscrete:\n",
    "        for i, center_x in enumerate(xDensityCenters):\n",
    "            for j, center_y in enumerate(yDensityCenters):\n",
    "                mat[j, i] += np.sum((x[y==center_y]==center_x))\n",
    "                \n",
    "    elif xdiscrete:\n",
    "        for pt in range(len(x)):\n",
    "            temp = np.zeros(len(yDensityCenters))\n",
    "            for i, center_y in enumerate(yDensityCenters):\n",
    "                dist_sq = (y[pt] - center_y)**2\n",
    "                temp[i] = np.exp(-0.5*sigma_sq_inv*dist_sq)\n",
    "                    \n",
    "            temp /= np.sum(temp)\n",
    "            mat[:, xDensityCenters.index(x[pt])] += temp\n",
    "    else:\n",
    "        for pt in range(len(y)):\n",
    "            temp = np.zeros(len(xDensityCenters))\n",
    "            for i, center_x in enumerate(xDensityCenters):\n",
    "                dist_sq = (x[pt] - center_x)**2\n",
    "                temp[i] = np.exp(-0.5*sigma_sq_inv*dist_sq)\n",
    "                    \n",
    "            temp /= np.sum(temp)\n",
    "            mat[yDensityCenters.index(y[pt])] += temp\n",
    "    \n",
    "    # Normalize the kernel\n",
    "    mat /= len(x)\n",
    "    \n",
    "    return mat"
   ]
  },
  {
   "cell_type": "code",
   "execution_count": 10,
   "id": "b6f8302e-2d9c-491c-bf3c-2b9576938542",
   "metadata": {},
   "outputs": [],
   "source": [
    "# Convert your data into multiple visual heatmaps\n",
    "# data: an array of numbers\n",
    "# dimensions: a multi-dimensional array with pairs indicating the different dimensions\n",
    "def heatmap(data, dimensions, cmap='hot', min=None, max=None, flip=False):\n",
    "    index = 0\n",
    "    for dim in dimensions:\n",
    "        mat = np.reshape(data[index:index+dim[0]*dim[1]], (dim[0],dim[1]))\n",
    "        if flip:\n",
    "            mat = np.flip(mat, 0)\n",
    "        if min != None and max != None:\n",
    "            im = plt.imshow(mat, cmap=cmap, interpolation='nearest', vmin=min, vmax=max)\n",
    "        else:\n",
    "            im = plt.imshow(mat, cmap=cmap, interpolation='nearest')\n",
    "        plt.colorbar(im)\n",
    "        plt.show()\n",
    "        index += dim[0]*dim[1]"
   ]
  },
  {
   "cell_type": "code",
   "execution_count": 13,
   "id": "f4e15218-b583-4287-91b6-810ea54e40bd",
   "metadata": {},
   "outputs": [
    {
     "name": "stderr",
     "output_type": "stream",
     "text": [
      "/tmp/ipykernel_67812/3356504097.py:28: DtypeWarning: Columns (20,30,31) have mixed types. Specify dtype option on import or set low_memory=False.\n",
      "  gene_mut = pd.read_csv(r\"/home/hxu/CCLE_ML_project/CCLE_ML_project/Data/DepMap_data/CCLE_gene_mutation_trimmed_Wei.csv\")\n"
     ]
    }
   ],
   "source": [
    "gene_exp = pd.read_csv(r\"/home/hxu/CCLE_ML_project/CCLE_ML_project/Data/DepMap_data/CCLE_gene_expression_trimmed_Wei.csv\")\n",
    "gene_exp.name = 'gene_exp'\n",
    "\n",
    "copy_num = pd.read_csv(r\"/home/hxu/CCLE_ML_project/CCLE_ML_project/Data/DepMap_data/CCLE_gene_cn_trimmed_Wei.csv\")\n",
    "copy_num.iloc[:,1:] *= 2\n",
    "copy_num_o = copy_num.copy()\n",
    "def take_closest(myList, myNumber):\n",
    "    pos = bisect_left(myList, myNumber)\n",
    "    if pos == 0:\n",
    "        return myList[0]\n",
    "    if pos == len(myList):\n",
    "        return myList[-1]\n",
    "    before = myList[pos - 1]\n",
    "    after = myList[pos]\n",
    "    if after - myNumber < myNumber - before:\n",
    "        return after\n",
    "    else:\n",
    "        return before \n",
    "# List of values to compare for each element in the DataFrame\n",
    "values_to_compare = [0, 1, 2, 3, 4, 6, 8]\n",
    "# Apply the take_closest function to every value in the DataFrame\n",
    "copy_num.iloc[:,1:] = copy_num.iloc[:,1:].map(lambda x: take_closest(values_to_compare, x))\n",
    "copy_num.name = 'copy_num'\n",
    "\n",
    "shRNA = pd.read_csv(r\"/home/hxu/CCLE_ML_project/CCLE_ML_project/Data/DepMap_data/shRNA_Broad_Trimmed_Wei.csv\")\n",
    "shRNA.name = 'shRNA'\n",
    "\n",
    "gene_mut = pd.read_csv(r\"/home/hxu/CCLE_ML_project/CCLE_ML_project/Data/DepMap_data/CCLE_gene_mutation_trimmed_Wei.csv\")\n",
    "gene_mut.drop(columns=gene_mut.columns[0],inplace=True)\n",
    "gene_mut.name = 'gene_mut'\n",
    "\n",
    "CRISPR = pd.read_csv(r\"/home/hxu/CCLE_ML_project/CCLE_ML_project/Data/DepMap_data/Avana_gene_effect_20Q3_Trimmed_Wei.csv\")\n",
    "CRISPR.name = 'CRISPR'"
   ]
  },
  {
   "cell_type": "code",
   "execution_count": 14,
   "id": "e5a3bb9f-0ebf-4e01-9ba3-182f0476ba1a",
   "metadata": {},
   "outputs": [],
   "source": [
    "gene_name = 'BRAF'"
   ]
  },
  {
   "cell_type": "markdown",
   "id": "eae25025-9e34-4146-8593-924221f5e7e2",
   "metadata": {
    "jp-MarkdownHeadingCollapsed": true
   },
   "source": [
    "# Gene Expression & shRNA"
   ]
  },
  {
   "cell_type": "code",
   "execution_count": 12,
   "id": "861fcb31-96d2-4149-8e66-710e2e219eb1",
   "metadata": {
    "scrolled": true
   },
   "outputs": [],
   "source": [
    "gene_exp_rna, shRNA_ge = trim(gene_exp, shRNA)\n",
    "gene_exp_rna.iloc[:,1:] = normalize(gene_exp_rna.iloc[:,1:])\n",
    "shRNA_ge.iloc[:,1:] = normalize(shRNA_ge.iloc[:,1:])\n",
    "gene_exp_rna_std, shRNA_ge_std = get_std(gene_exp_rna.iloc[:,1:].to_numpy(), shRNA_ge.iloc[:,1:].to_numpy())"
   ]
  },
  {
   "cell_type": "code",
   "execution_count": 13,
   "id": "12aec8e3-ca97-4994-89fd-f53e5af4dab1",
   "metadata": {},
   "outputs": [
    {
     "data": {
      "image/png": "[encoded data removed]",
      "text/plain": [
       "<Figure size 640x480 with 1 Axes>"
      ]
     },
     "metadata": {},
     "output_type": "display_data"
    },
    {
     "data": {
      "image/png": "[encoded data removed]",
      "text/plain": [
       "<Figure size 640x480 with 1 Axes>"
      ]
     },
     "metadata": {},
     "output_type": "display_data"
    }
   ],
   "source": [
    "x, xd = extract(gene_exp_rna, gene_name, cutoff=True, std=gene_exp_rna_std, max=7, density_center=True, boxes=7)\n",
    "y, yd = extract(shRNA_ge, gene_name, cutoff=True, std=shRNA_ge_std, max=7, density_center=True, boxes=7)\n",
    "std = avg_std(gene_exp_rna.iloc[:,1:].to_numpy(), shRNA_ge.iloc[:,1:].to_numpy())\n",
    "mat = np.flip(densitymap(x, y, xd, yd, sigma=std), 0)\n",
    "mat += 1/len(gene_exp_rna.columns)\n",
    "\n",
    "# show scatterplot\n",
    "plt.scatter(x,y,marker='.')\n",
    "plt.axis((-7*gene_exp_rna_std, 7*gene_exp_rna_std, -7*shRNA_ge_std, 7*shRNA_ge_std))\n",
    "plt.xticks([])\n",
    "plt.yticks([])\n",
    "plt.show()\n",
    "# show heatmap\n",
    "plt.imshow(mat, cmap='hot', norm='log')\n",
    "plt.axis('off')\n",
    "plt.show()"
   ]
  },
  {
   "cell_type": "markdown",
   "id": "30db6b54-60e5-45d8-8f99-10aa4762eb59",
   "metadata": {},
   "source": [
    "# Mutation & CRISPR"
   ]
  },
  {
   "cell_type": "code",
   "execution_count": 15,
   "id": "8bf55d07-01a9-4813-8b4d-d7047c373a0d",
   "metadata": {},
   "outputs": [],
   "source": [
    "gene_mut_cr, CRISPR_gm = mut_trim(gene_mut, CRISPR)\n",
    "CRISPR_gm.iloc[:,1:] = normalize(CRISPR_gm.iloc[:,1:])\n",
    "CRISPR_gm_std = np.nanstd(CRISPR_gm.iloc[:,1:])"
   ]
  },
  {
   "cell_type": "code",
   "execution_count": 16,
   "id": "97504177-2333-4720-9289-4c4c9abde876",
   "metadata": {},
   "outputs": [
    {
     "data": {
      "image/png": "[encoded data removed]",
      "text/plain": [
       "<Figure size 800x500 with 1 Axes>"
      ]
     },
     "metadata": {},
     "output_type": "display_data"
    },
    {
     "data": {
      "image/png": "[encoded data removed]",
      "text/plain": [
       "<Figure size 640x480 with 1 Axes>"
      ]
     },
     "metadata": {},
     "output_type": "display_data"
    }
   ],
   "source": [
    "x = extract(gene_mut_cr, gene_name, cutoff=False)\n",
    "y, yd = extract(CRISPR_gm, gene_name, cutoff=True, std=CRISPR_gm_std, max=7, density_center=True, boxes=7)\n",
    "x, y = drop_nan(x, y)\n",
    "mat = np.flip(densitymap(x, y, [0, 1], yd, xdiscrete=True, sigma=CRISPR_gm_std), 0)\n",
    "\n",
    "# show scatterplot\n",
    "plt.figure(figsize=(8,5))\n",
    "plt.scatter(x,y,marker='.')\n",
    "plt.xticks([])\n",
    "plt.yticks([])\n",
    "plt.show()\n",
    "# show heatmap\n",
    "plt.imshow(mat, cmap='hot', norm='log')\n",
    "plt.axis('off')\n",
    "plt.show()"
   ]
  },
  {
   "cell_type": "code",
   "execution_count": 19,
   "id": "09a87737-1fee-448a-ad21-a4068d738ea8",
   "metadata": {},
   "outputs": [
    {
     "data": {
      "image/png": "[encoded data removed]",
      "text/plain": [
       "<Figure size 800x500 with 1 Axes>"
      ]
     },
     "metadata": {},
     "output_type": "display_data"
    },
    {
     "data": {
      "image/png": "[encoded data removed]",
      "text/plain": [
       "<Figure size 640x480 with 1 Axes>"
      ]
     },
     "metadata": {},
     "output_type": "display_data"
    }
   ],
   "source": [
    "x = extract(gene_mut_cr, gene_name, cutoff=False)\n",
    "y, yd = extract(CRISPR_gm, gene_name, cutoff=True, std=CRISPR_gm_std, max=7, density_center=True, boxes=7)\n",
    "x, y = drop_nan(x, y)\n",
    "mat = np.flip(densitymap(x, y, [0, 1], yd, xdiscrete=True, sigma=CRISPR_gm_std), 0)\n",
    "\n",
    "# show scatterplot\n",
    "plt.figure(figsize=(8,5))\n",
    "plt.scatter(x,y,marker='.')\n",
    "plt.xticks([])\n",
    "plt.yticks([])\n",
    "plt.show()\n",
    "# show heatmap\n",
    "plt.imshow(mat, cmap='hot', norm='log')\n",
    "plt.axis('off')\n",
    "plt.show()"
   ]
  },
  {
   "cell_type": "markdown",
   "id": "9b757ebc-c847-4c35-ab72-06b20b6a95c6",
   "metadata": {
    "jp-MarkdownHeadingCollapsed": true
   },
   "source": [
    "# Gene Expression & Copy Number"
   ]
  },
  {
   "cell_type": "code",
   "execution_count": 23,
   "id": "7bb5ebf6-117e-470c-9391-0accf134f91b",
   "metadata": {},
   "outputs": [],
   "source": [
    "copy_num_cr, CRISPR_cn = trim(copy_num, gene_exp)\n",
    "copy_num_cr_o, _ = trim(copy_num_o, gene_exp)\n",
    "CRISPR_cn.iloc[:,1:] = normalize(CRISPR_cn.iloc[:,1:])\n",
    "CRISPR_cn_std = np.nanstd(CRISPR_cn.iloc[:,1:])"
   ]
  },
  {
   "cell_type": "code",
   "execution_count": 39,
   "id": "7b827c79-e9e7-47c3-8700-11279da7f700",
   "metadata": {},
   "outputs": [
    {
     "data": {
      "image/png": "[encoded data removed]",
      "text/plain": [
       "<Figure size 500x500 with 1 Axes>"
      ]
     },
     "metadata": {},
     "output_type": "display_data"
    },
    {
     "data": {
      "image/png": "[encoded data removed]",
      "text/plain": [
       "<Figure size 500x500 with 1 Axes>"
      ]
     },
     "metadata": {},
     "output_type": "display_data"
    },
    {
     "data": {
      "image/png": "[encoded data removed]",
      "text/plain": [
       "<Figure size 640x480 with 1 Axes>"
      ]
     },
     "metadata": {},
     "output_type": "display_data"
    }
   ],
   "source": [
    "x, xd = extract(CRISPR_cn, gene_name, cutoff=True, std=CRISPR_cn_std, max=7, density_center=True, boxes=7)\n",
    "y = extract(copy_num_cr, gene_name, cutoff=False)\n",
    "y_scatter = extract(copy_num_cr_o, gene_name, cutoff=False)\n",
    "x, y = drop_nan(x, y)\n",
    "mat = np.flip(densitymap(x,y,xd,[0,1,2,3,4,6,8], ydiscrete=True, sigma=CRISPR_cn_std), 0)\n",
    "mat += 1/len(CRISPR_cn.columns)\n",
    "\n",
    "# show scatterplot\n",
    "plt.figure(figsize=(5,5))\n",
    "plt.scatter(x,y_scatter,marker='.')\n",
    "plt.axis((-7*CRISPR_cn_std, 7*CRISPR_cn_std, 0, 8))\n",
    "plt.xticks([])\n",
    "plt.yticks([])\n",
    "plt.show()\n",
    "\n",
    "plt.figure(figsize=(5,5))\n",
    "plt.scatter(x,y,marker='.')\n",
    "plt.axis((-7*CRISPR_cn_std, 7*CRISPR_cn_std, 0, 8))\n",
    "plt.xticks([])\n",
    "plt.yticks([])\n",
    "plt.show()\n",
    "# show heatmap\n",
    "plt.imshow(mat, cmap='hot', norm='log')\n",
    "plt.axis('off')\n",
    "plt.show()"
   ]
  }
 ],
 "metadata": {
  "kernelspec": {
   "display_name": "Python 3 (ipykernel)",
   "language": "python",
   "name": "python3"
  },
  "language_info": {
   "codemirror_mode": {
    "name": "ipython",
    "version": 3
   },
   "file_extension": ".py",
   "mimetype": "text/x-python",
   "name": "python",
   "nbconvert_exporter": "python",
   "pygments_lexer": "ipython3",
   "version": "3.11.7"
  }
 },
 "nbformat": 4,
 "nbformat_minor": 5
}
