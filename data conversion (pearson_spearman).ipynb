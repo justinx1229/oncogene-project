{
 "cells": [
  {
   "cell_type": "code",
   "execution_count": 25,
   "id": "1bef11cc",
   "metadata": {},
   "outputs": [],
   "source": [
    "import math\n",
    "import numpy as np\n",
    "import pandas as pd\n",
    "import matplotlib.pyplot as plt\n",
    "import time\n",
    "from bisect import bisect_left\n",
    "from scipy import stats\n",
    "import warnings"
   ]
  },
  {
   "cell_type": "code",
   "execution_count": 4,
   "id": "2c4527ca",
   "metadata": {},
   "outputs": [],
   "source": [
    "# trim 2 dataframes to match\n",
    "def trim(dataframe_1, dataframe_2):\n",
    "    def process(df):\n",
    "        df.sort_index(inplace=True)\n",
    "        temp = df.iloc[:,0].str.strip()\n",
    "        df.drop(columns=df.columns[0], inplace = True)\n",
    "        df.sort_index(axis=1, inplace=True)\n",
    "        df.insert(0,temp.name,temp)\n",
    "        return df\n",
    "    \n",
    "    df1 = process(dataframe_1.copy())\n",
    "    df2 = process(dataframe_2.copy())\n",
    "    \n",
    "    # match indexes\n",
    "    mask = df1.iloc[:, 0].isin(df2.iloc[:, 0])\n",
    "    df1 = df1[mask]\n",
    "    mask = df2.iloc[:, 0].isin(df1.iloc[:, 0])\n",
    "    df2 = df2[mask]\n",
    "    \n",
    "    mask = df1.columns.str.strip().isin(df2.columns.str.strip())\n",
    "    df1 = df1.loc[:, mask]\n",
    "    mask = df2.columns.str.strip().isin(df1.columns.str.strip())\n",
    "    df2 = df2.loc[:, mask]\n",
    "    \n",
    "    return df1, df2"
   ]
  },
  {
   "cell_type": "code",
   "execution_count": 5,
   "id": "bc1e5447",
   "metadata": {},
   "outputs": [],
   "source": [
    "def mut_trim(mutation, dataframe):\n",
    "    df_out = dataframe.copy()\n",
    "    df_out.iloc[:,0] = dataframe.iloc[:,0].str.strip()\n",
    "    # initialize dataframe\n",
    "    df = pd.DataFrame(columns = np.append(df_out.columns.str.strip(), 'throwaway'))\n",
    "    df.iloc[:,0] = np.append(df_out.iloc[:,0], 'throwaway')\n",
    "    df.iloc[:,1:] = 0\n",
    "    \n",
    "    # add mutations\n",
    "    r = {key: i for i, key in enumerate(df.iloc[:, 0])}\n",
    "    c = {key: i for i, key in enumerate(df.columns)}\n",
    "    for i in range(len(mutation)): \n",
    "        df.iloc[r.get(mutation.iloc[i, 0], -1), c.get(mutation.iloc[i, -1], -1)] = 1\n",
    "    \n",
    "    return df.iloc[:-1, :-1], df_out"
   ]
  },
  {
   "cell_type": "code",
   "execution_count": 6,
   "id": "217ce927",
   "metadata": {},
   "outputs": [],
   "source": [
    "# normalize dataframe to 0\n",
    "def normalize(dataframe):\n",
    "    df = dataframe.copy()\n",
    "    mean = df.iloc[:, 1:].mean(axis=1, numeric_only=True)\n",
    "    df.iloc[:, 1:] = df.iloc[:, 1:].sub(mean, axis=0)\n",
    "    return df"
   ]
  },
  {
   "cell_type": "code",
   "execution_count": 7,
   "id": "7dc20708",
   "metadata": {},
   "outputs": [],
   "source": [
    "def get_std(df1, df2):\n",
    "    xstd = np.median(np.nanstd(df1.iloc[:,1:].to_numpy(dtype='float64'), axis=1))\n",
    "    ystd = np.median(np.nanstd(df2.iloc[:,1:].to_numpy(dtype='float64'), axis=1))\n",
    "    return xstd, ystd"
   ]
  },
  {
   "cell_type": "code",
   "execution_count": 10,
   "id": "3a33fc62-ac2e-4355-8e52-c05875bf37cb",
   "metadata": {},
   "outputs": [],
   "source": [
    "# extracts a specific gene and creates density centers\n",
    "# if continuous, boxes = number of divisions between max and min\n",
    "# if discrete, boxes = array of values\n",
    "def extract(df, gene_name, cutoff=False, std=1, max=7):\n",
    "    values = df[df.iloc[:, 0] == gene_name].iloc[:, 1:]\n",
    "\n",
    "    if cutoff:\n",
    "        # set values greater than max in graph to be max or values less than min in graph to be min\n",
    "        values[values > std*max] = std*max\n",
    "        values[values < -std*max] = -std*max\n",
    "\n",
    "    return values"
   ]
  },
  {
   "cell_type": "code",
   "execution_count": 23,
   "id": "fcb6b082-47d3-4309-9833-772167e9708f",
   "metadata": {},
   "outputs": [],
   "source": [
    "def correlation(df1, df2, list, type='pearson', *args):\n",
    "    key = {key: i for i, key in enumerate(dataset.iloc[:, 0])}\n",
    "    temp = pd.DataFrame(index=range(len(list)), columns = [df1.name+'.'+df2.name])\n",
    "    \n",
    "    if 'mut' in args:\n",
    "        df1_t, df2_t = mut_trim(df1, df2)\n",
    "    else:\n",
    "        df1_t, df2_t = trim(df1, df2)\n",
    "\n",
    "    for i, gene_name in enumerate(df1_t.iloc[:,0]):\n",
    "        x = df1_t.iloc[i:i+1, 1:]\n",
    "        y = df2_t.iloc[i:i+1, 1:]\n",
    "        # drop NaN\n",
    "        df = pd.concat([x,y])\n",
    "        df.dropna(axis=1, inplace=True)\n",
    "        x = df.iloc[0]\n",
    "        y = df.iloc[1]\n",
    "        \n",
    "        if type == 'pearson':\n",
    "            temp.iloc[key[gene_name]] = stats.pearsonr(x,y).statistic\n",
    "        elif type == 'spearman':\n",
    "            temp.iloc[key[gene_name]] = stats.spearmanr(x,y).statistic\n",
    "\n",
    "    return temp;\n",
    "        "
   ]
  },
  {
   "cell_type": "code",
   "execution_count": 12,
   "id": "b5f5dbec",
   "metadata": {},
   "outputs": [],
   "source": [
    "def build(df1, df2, boxes=7, *args):\n",
    "    key = {key: i for i, key in enumerate(dataset.iloc[:, 0])}\n",
    "    \n",
    "    if 'mut' in args:\n",
    "        temp = pd.DataFrame(index=range(len(genes)), \n",
    "                            columns = [df1.name+'.'+df2.name+'.'+value for value in map(str, range(2*boxes))])\n",
    "        df1_t, df2_t = mut_trim(df1, df2)\n",
    "        if 'cn' in args:\n",
    "            for gene_name in df2_t.iloc[:,0]:\n",
    "                y, x = drop_na_extract(df2_t, df1_t, gene_name)\n",
    "                mat = mut_cn_densitymap(x,y,[0,1,2,3,4,6,8])\n",
    "                temp.iloc[key[gene_name]] = mat.flatten()\n",
    "        else:\n",
    "            _, xstd = get_std(df1_t, df2_t)\n",
    "            for gene_name in df2_t.iloc[:,0]:\n",
    "                x, y, yd = single_extract(df1_t, df2_t, xstd, gene_name, 7, boxes)\n",
    "                mat = mut_densitymap(x,y,yd,0.2)\n",
    "                temp.iloc[key[gene_name]] = mat.flatten()\n",
    "    else:\n",
    "        temp = pd.DataFrame(index=range(len(genes)), \n",
    "                            columns = [df1.name+'.'+df2.name+'.'+value for value in map(str, range(boxes*boxes))])\n",
    "        df1_t, df2_t = trim(df1, df2)\n",
    "        if'cn' in args:\n",
    "            xstd, _ = get_std(df1_t, df2_t)\n",
    "            for gene_name in df1_t.iloc[:,0]:\n",
    "                y, x, xd = single_extract(df2_t, df1_t, xstd, gene_name, 7, boxes)\n",
    "                mat = cn_densitymap(x,y,xd,[0,1,2,3,4,6,8],0.2)\n",
    "                temp.iloc[key[gene_name]] = mat.flatten()\n",
    "        else:\n",
    "            xstd, ystd = get_std(df1_t, df2_t)\n",
    "            for gene_name in df1_t.iloc[:,0]:\n",
    "                x, y, xd, yd = extract(df1_t, df2_t, xstd, ystd, gene_name, 7, boxes)\n",
    "                mat = densitymap(x,y,xd,yd,0.2)\n",
    "                temp.iloc[key[gene_name]] = mat.flatten()\n",
    "    \n",
    "    temp += 1/len(df1_t.columns)\n",
    "    temp = temp.applymap(np.log)\n",
    "    \n",
    "    return temp"
   ]
  },
  {
   "cell_type": "code",
   "execution_count": 16,
   "id": "6eb029ad",
   "metadata": {},
   "outputs": [
    {
     "name": "stderr",
     "output_type": "stream",
     "text": [
      "/var/folders/sf/j51q0rws0gn3w2dp6yl5zbgc0000gp/T/ipykernel_4097/2620932998.py:28: DtypeWarning: Columns (20,30,31) have mixed types. Specify dtype option on import or set low_memory=False.\n",
      "  gene_mut = pd.read_csv(r\"/Users/justinxu/Documents/Coding_Project/Han Xu/DepMap_data/DepMap_data/CCLE_gene_mutation_trimmed_Wei.csv\")\n"
     ]
    }
   ],
   "source": [
    "gene_exp = pd.read_csv(r\"/Users/justinxu/Documents/Coding_Project/Han Xu/DepMap_data/DepMap_data/CCLE_gene_expression_trimmed_Wei.csv\")\n",
    "gene_exp = normalize(gene_exp)\n",
    "gene_exp.name = 'gene_exp'\n",
    "\n",
    "copy_num = pd.read_csv(r\"/Users/justinxu/Documents/Coding_Project/Han Xu/DepMap_data/DepMap_data/CCLE_gene_cn_trimmed_Wei.csv\")\n",
    "copy_num.iloc[:,1:] *= 2\n",
    "def take_closest(myList, myNumber):\n",
    "    pos = bisect_left(myList, myNumber)\n",
    "    if pos == 0:\n",
    "        return myList[0]\n",
    "    if pos == len(myList):\n",
    "        return myList[-1]\n",
    "    before = myList[pos - 1]\n",
    "    after = myList[pos]\n",
    "    if after - myNumber < myNumber - before:\n",
    "        return after\n",
    "    else:\n",
    "        return before \n",
    "# List of values to compare for each element in the DataFrame\n",
    "values_to_compare = [0, 1, 2, 3, 4, 6, 8]\n",
    "# Apply the take_closest function to every value in the DataFrame\n",
    "copy_num.iloc[:,1:] = copy_num.iloc[:,1:].map(lambda x: take_closest(values_to_compare, x))\n",
    "copy_num.name = 'copy_num'\n",
    "\n",
    "shRNA = pd.read_csv(r\"/Users/justinxu/Documents/Coding_Project/Han Xu/DepMap_data/DepMap_data/shRNA_Broad_Trimmed_Wei.csv\")\n",
    "shRNA.name = 'shRNA'\n",
    "\n",
    "gene_mut = pd.read_csv(r\"/Users/justinxu/Documents/Coding_Project/Han Xu/DepMap_data/DepMap_data/CCLE_gene_mutation_trimmed_Wei.csv\")\n",
    "gene_mut.drop(columns=gene_mut.columns[0],inplace=True)\n",
    "gene_mut.name = 'gene_mut'\n",
    "\n",
    "CRISPR = pd.read_csv(r\"/Users/justinxu/Documents/Coding_Project/Han Xu/DepMap_data/DepMap_data/Avana_gene_effect_20Q3_Trimmed_Wei.csv\")\n",
    "CRISPR.name = 'CRISPR'"
   ]
  },
  {
   "cell_type": "code",
   "execution_count": 27,
   "id": "41fa8893-2b6e-4e74-9285-985c1ebfd9db",
   "metadata": {
    "scrolled": true
   },
   "outputs": [],
   "source": [
    "warnings.filterwarnings(\"ignore\")\n",
    "genes = sorted(set(gene_exp.iloc[:,0].str.strip()) | \n",
    "               set(copy_num.iloc[:,0].str.strip()) | \n",
    "               set(shRNA.iloc[:,0].str.strip()) | \n",
    "               set(CRISPR.iloc[:,0].str.strip()))\n",
    "type = 'pearson'\n",
    "dataset = pd.DataFrame({'gene name':genes})\n",
    "dataset = pd.concat([dataset, correlation(gene_exp, copy_num, genes, type)], axis=1)\n",
    "dataset = pd.concat([dataset, correlation(gene_exp, shRNA, genes, type)], axis=1)\n",
    "dataset = pd.concat([dataset, correlation(gene_mut, gene_exp, genes, type, 'mut')], axis=1)\n",
    "dataset = pd.concat([dataset, correlation(gene_exp, CRISPR, genes, type)], axis=1)\n",
    "dataset = pd.concat([dataset, correlation(shRNA, copy_num, genes, type)], axis=1)\n",
    "dataset = pd.concat([dataset, correlation(gene_mut, copy_num, genes, type, 'mut')], axis=1)\n",
    "dataset = pd.concat([dataset, correlation(CRISPR, copy_num, genes, type)], axis=1)\n",
    "dataset = pd.concat([dataset, correlation(gene_mut, shRNA, genes, type, 'mut')], axis=1)\n",
    "dataset = pd.concat([dataset, correlation(shRNA, CRISPR, genes, type)], axis=1)\n",
    "dataset = pd.concat([dataset, correlation(gene_mut, CRISPR, genes, type, 'mut')], axis=1)\n",
    "warnings.filterwarnings(\"default\")"
   ]
  },
  {
   "cell_type": "code",
   "execution_count": 28,
   "id": "f4297cba-c1d1-4010-ba00-9fd822893110",
   "metadata": {},
   "outputs": [],
   "source": [
    "dataset.to_csv(r\"/Users/justinxu/Documents/Coding_Project/Han Xu/pearson.csv\", index=False)"
   ]
  },
  {
   "cell_type": "code",
   "execution_count": 29,
   "id": "2f8baeb9-24be-4179-9773-1b2946ba4798",
   "metadata": {
    "scrolled": true
   },
   "outputs": [],
   "source": [
    "warnings.filterwarnings(\"ignore\")\n",
    "genes = sorted(set(gene_exp.iloc[:,0].str.strip()) | \n",
    "               set(copy_num.iloc[:,0].str.strip()) | \n",
    "               set(shRNA.iloc[:,0].str.strip()) | \n",
    "               set(CRISPR.iloc[:,0].str.strip()))\n",
    "type = 'spearman'\n",
    "dataset = pd.DataFrame({'gene name':genes})\n",
    "dataset = pd.concat([dataset, correlation(gene_exp, copy_num, genes, type)], axis=1)\n",
    "dataset = pd.concat([dataset, correlation(gene_exp, shRNA, genes, type)], axis=1)\n",
    "dataset = pd.concat([dataset, correlation(gene_mut, gene_exp, genes, type, 'mut')], axis=1)\n",
    "dataset = pd.concat([dataset, correlation(gene_exp, CRISPR, genes, type)], axis=1)\n",
    "dataset = pd.concat([dataset, correlation(shRNA, copy_num, genes, type)], axis=1)\n",
    "dataset = pd.concat([dataset, correlation(gene_mut, copy_num, genes, type, 'mut')], axis=1)\n",
    "dataset = pd.concat([dataset, correlation(CRISPR, copy_num, genes, type)], axis=1)\n",
    "dataset = pd.concat([dataset, correlation(gene_mut, shRNA, genes, type, 'mut')], axis=1)\n",
    "dataset = pd.concat([dataset, correlation(shRNA, CRISPR, genes, type)], axis=1)\n",
    "dataset = pd.concat([dataset, correlation(gene_mut, CRISPR, genes, type, 'mut')], axis=1)\n",
    "warnings.filterwarnings(\"default\")"
   ]
  },
  {
   "cell_type": "code",
   "execution_count": 30,
   "id": "d4963cb1-e3cc-4ce8-9d1d-2be0c11932ab",
   "metadata": {},
   "outputs": [],
   "source": [
    "dataset.to_csv(r\"/Users/justinxu/Documents/Coding_Project/Han Xu/spearman.csv\", index=False)"
   ]
  }
 ],
 "metadata": {
  "kernelspec": {
   "display_name": "Python 3 (ipykernel)",
   "language": "python",
   "name": "python3"
  },
  "language_info": {
   "codemirror_mode": {
    "name": "ipython",
    "version": 3
   },
   "file_extension": ".py",
   "mimetype": "text/x-python",
   "name": "python",
   "nbconvert_exporter": "python",
   "pygments_lexer": "ipython3",
   "version": "3.11.7"
  }
 },
 "nbformat": 4,
 "nbformat_minor": 5
}
